{
 "cells": [
  {
   "cell_type": "markdown",
   "metadata": {},
   "source": [
    "# 2) Find Shortest Paths with OSMnx\n",
    "\n",
    "## Env"
   ]
  },
  {
   "cell_type": "code",
   "execution_count": 2,
   "metadata": {},
   "outputs": [],
   "source": [
    "import osmnx as ox\n",
    "import networkx as nx\n",
    "import os\n",
    "import pandas as pd"
   ]
  },
  {
   "cell_type": "code",
   "execution_count": 36,
   "metadata": {},
   "outputs": [],
   "source": [
    "# Deifnitions of each\n",
    "GEO_DEFINITIONS = {\n",
    "    'phi': [{'county': 'Philadelphia', 'state': 'Pennsylvania'}],\n",
    "    'chi': [{'county': 'Cook', 'state': 'Illinois'}],\n",
    "    'sf': [{'county': 'San Francisco','state': 'California'}],\n",
    "    'eastbay': [{'county': 'Contra Costa','state': 'California'}, {'county': 'Alameda','state': 'California'}],\n",
    "    'nyc': [{'county': 'King', 'state': 'New York'}, {'county': 'Queens', 'state': 'New York'}, \n",
    "            {'county': 'New York', 'state': 'New York'}, {'county': 'Bronx', 'state': 'New York'}]\n",
    "}"
   ]
  },
  {
   "cell_type": "markdown",
   "metadata": {},
   "source": [
    "## Mk DB Connection"
   ]
  },
  {
   "cell_type": "code",
   "execution_count": 71,
   "metadata": {},
   "outputs": [
    {
     "name": "stdout",
     "output_type": "stream",
     "text": [
      "Successfully connected to the PostgreSQL database\n"
     ]
    }
   ],
   "source": [
    "# Postgres\n",
    "from dotenv import load_dotenv\n",
    "\n",
    "load_dotenv()\n",
    "\n",
    "from sqlalchemy import create_engine\n",
    "from sqlalchemy.engine import URL\n",
    "from sqlalchemy import text\n",
    "# os.chdir('Documents/Grad School/Berkeley/Classes/CYP_204D - Multivariate Analysis in Planning/Project/204d_final_project/')\n",
    "user = \"postgres\"\n",
    "password = os.getenv('POSTGRES_PW')\n",
    "host = \"127.0.0.1\"\n",
    "port = \"5432\"\n",
    "database = \"gradschool\"\n",
    "\n",
    "pg_url = URL.create(\n",
    "    drivername='postgresql',\n",
    "    username='postgres',\n",
    "    host='127.0.0.1',\n",
    "    database='gradschool',\n",
    "    password=os.getenv('POSTGRES_PW')\n",
    ")\n",
    "\n",
    "pg_engine = create_engine(pg_url)\n",
    "# Test connection\n",
    "try:\n",
    "    with pg_engine.connect() as connection_str:\n",
    "        print('Successfully connected to the PostgreSQL database')\n",
    "except Exception as e:\n",
    "    print(f'Sorry failed to connect: {e}')\n",
    "\n",
    "pg_connection = pg_engine.connect()\n"
   ]
  },
  {
   "cell_type": "markdown",
   "metadata": {},
   "source": [
    "## Network data"
   ]
  },
  {
   "cell_type": "markdown",
   "metadata": {},
   "source": [
    "### Get Road Networks from OSMnx"
   ]
  },
  {
   "cell_type": "code",
   "execution_count": 8,
   "metadata": {},
   "outputs": [
    {
     "name": "stdout",
     "output_type": "stream",
     "text": [
      "Pulling graph for phi..\n",
      "\tSuccess..\n",
      "Pulling graph for chi..\n",
      "\tSuccess..\n",
      "Pulling graph for sfba..\n",
      "\tSuccess..\n",
      "Pulling graph for nyc..\n",
      "\tfailed with exception: Nominatim geocoder returned 0 results for query {'county': 'Kings', 'state': 'New York'}.\n"
     ]
    }
   ],
   "source": [
    "G = {}\n",
    "for i in GEO_DEFINITIONS.keys():\n",
    "    print(f'Pulling graph for {i}..')\n",
    "    try:\n",
    "        G[i] = ox.graph.graph_from_place(GEO_DEFINITIONS[i], network_type='walk', simplify=True, retain_all=False)\n",
    "        print('\\tSuccess..')\n",
    "    except Exception as e:\n",
    "        print(f'\\tfailed with exception: {e}')"
   ]
  },
  {
   "cell_type": "code",
   "execution_count": 12,
   "metadata": {},
   "outputs": [
    {
     "ename": "KeyError",
     "evalue": "'nyc'",
     "output_type": "error",
     "traceback": [
      "\u001b[0;31m---------------------------------------------------------------------------\u001b[0m",
      "\u001b[0;31mKeyError\u001b[0m                                  Traceback (most recent call last)",
      "Cell \u001b[0;32mIn[12], line 13\u001b[0m\n\u001b[1;32m     10\u001b[0m     pickle\u001b[38;5;241m.\u001b[39mdump(G[\u001b[38;5;124m'\u001b[39m\u001b[38;5;124msfba\u001b[39m\u001b[38;5;124m'\u001b[39m], fp)\n\u001b[1;32m     12\u001b[0m \u001b[38;5;28;01mwith\u001b[39;00m \u001b[38;5;28mopen\u001b[39m(\u001b[38;5;124m'\u001b[39m\u001b[38;5;124m../data/temp/nyc_walk_graph\u001b[39m\u001b[38;5;124m'\u001b[39m, \u001b[38;5;124m'\u001b[39m\u001b[38;5;124mwb\u001b[39m\u001b[38;5;124m'\u001b[39m) \u001b[38;5;28;01mas\u001b[39;00m fp:\n\u001b[0;32m---> 13\u001b[0m     pickle\u001b[38;5;241m.\u001b[39mdump(\u001b[43mG\u001b[49m\u001b[43m[\u001b[49m\u001b[38;5;124;43m'\u001b[39;49m\u001b[38;5;124;43mnyc\u001b[39;49m\u001b[38;5;124;43m'\u001b[39;49m\u001b[43m]\u001b[49m, fp)\n",
      "\u001b[0;31mKeyError\u001b[0m: 'nyc'"
     ]
    }
   ],
   "source": [
    "# Save them all\n",
    "import pickle\n",
    "with open('../data/temp/phi_walk_graph', 'wb') as fp:\n",
    "    pickle.dump(G['phi'], fp)\n",
    "\n",
    "with open('../data/temp/chi_walk_graph', 'wb') as fp:\n",
    "    pickle.dump(G['chi'], fp)\n",
    "\n",
    "with open('../data/temp/sfba_walk_graph', 'wb') as fp:\n",
    "    pickle.dump(G['sfba'], fp)\n",
    "\n",
    "with open('../data/temp/nyc_walk_graph', 'wb') as fp:\n",
    "    pickle.dump(G['nyc'], fp)\n"
   ]
  },
  {
   "cell_type": "code",
   "execution_count": 73,
   "metadata": {},
   "outputs": [],
   "source": [
    "# G.keys()\n",
    "\n",
    "# Load NYC (downloaded in a different script)\n",
    "with open('../data/temp/nyc_walk_graph', 'rb') as fp:\n",
    "    G['nyc'] = pickle.load(fp)"
   ]
  },
  {
   "cell_type": "markdown",
   "metadata": {},
   "source": [
    "#### Plot All Graphs\n",
    "\n",
    "Note: I think some of these are just way too big"
   ]
  },
  {
   "cell_type": "code",
   "execution_count": 79,
   "metadata": {},
   "outputs": [
    {
     "ename": "ValueError",
     "evalue": "'grey33' is not a valid color value.",
     "output_type": "error",
     "traceback": [
      "\u001b[0;31m---------------------------------------------------------------------------\u001b[0m",
      "\u001b[0;31mValueError\u001b[0m                                Traceback (most recent call last)",
      "Cell \u001b[0;32mIn[79], line 6\u001b[0m\n\u001b[1;32m      3\u001b[0m fig, axes \u001b[38;5;241m=\u001b[39m plt\u001b[38;5;241m.\u001b[39msubplots(\u001b[38;5;241m1\u001b[39m, \u001b[38;5;241m2\u001b[39m, figsize\u001b[38;5;241m=\u001b[39m(\u001b[38;5;241m15\u001b[39m, \u001b[38;5;241m15\u001b[39m))\n\u001b[1;32m      5\u001b[0m \u001b[38;5;66;03m# Plot each graph in a subplot\u001b[39;00m\n\u001b[0;32m----> 6\u001b[0m \u001b[43mox\u001b[49m\u001b[38;5;241;43m.\u001b[39;49m\u001b[43mplot_graph\u001b[49m\u001b[43m(\u001b[49m\u001b[43mG\u001b[49m\u001b[43m[\u001b[49m\u001b[38;5;124;43m'\u001b[39;49m\u001b[38;5;124;43mphi\u001b[39;49m\u001b[38;5;124;43m'\u001b[39;49m\u001b[43m]\u001b[49m\u001b[43m,\u001b[49m\u001b[43m \u001b[49m\u001b[43max\u001b[49m\u001b[38;5;241;43m=\u001b[39;49m\u001b[43maxes\u001b[49m\u001b[43m[\u001b[49m\u001b[38;5;241;43m0\u001b[39;49m\u001b[43m]\u001b[49m\u001b[43m,\u001b[49m\u001b[43m \u001b[49m\u001b[43mnode_size\u001b[49m\u001b[38;5;241;43m=\u001b[39;49m\u001b[38;5;241;43m0\u001b[39;49m\u001b[43m,\u001b[49m\u001b[43m \u001b[49m\u001b[43medge_color\u001b[49m\u001b[38;5;241;43m=\u001b[39;49m\u001b[38;5;124;43m'\u001b[39;49m\u001b[38;5;124;43mgrey33\u001b[39;49m\u001b[38;5;124;43m'\u001b[39;49m\u001b[43m,\u001b[49m\u001b[43m \u001b[49m\u001b[43medge_linewidth\u001b[49m\u001b[38;5;241;43m=\u001b[39;49m\u001b[38;5;241;43m.5\u001b[39;49m\u001b[43m,\u001b[49m\u001b[43m \u001b[49m\u001b[43mshow\u001b[49m\u001b[38;5;241;43m=\u001b[39;49m\u001b[38;5;28;43;01mFalse\u001b[39;49;00m\u001b[43m)\u001b[49m\n\u001b[1;32m      7\u001b[0m axes[\u001b[38;5;241m0\u001b[39m]\u001b[38;5;241m.\u001b[39mset_title(\u001b[38;5;124m'\u001b[39m\u001b[38;5;124mPhiladelphia\u001b[39m\u001b[38;5;124m'\u001b[39m)\n\u001b[1;32m      9\u001b[0m ox\u001b[38;5;241m.\u001b[39mplot_graph(G[\u001b[38;5;124m'\u001b[39m\u001b[38;5;124mchi\u001b[39m\u001b[38;5;124m'\u001b[39m], ax\u001b[38;5;241m=\u001b[39maxes[\u001b[38;5;241m1\u001b[39m], node_size\u001b[38;5;241m=\u001b[39m\u001b[38;5;241m0\u001b[39m, edge_color\u001b[38;5;241m=\u001b[39m\u001b[38;5;124m'\u001b[39m\u001b[38;5;124mgrey33\u001b[39m\u001b[38;5;124m'\u001b[39m, edge_linewidth\u001b[38;5;241m=\u001b[39m\u001b[38;5;241m.5\u001b[39m, show\u001b[38;5;241m=\u001b[39m\u001b[38;5;28;01mFalse\u001b[39;00m)\n",
      "File \u001b[0;32m~/anaconda3/envs/cyp204d/lib/python3.9/site-packages/osmnx/plot.py:256\u001b[0m, in \u001b[0;36mplot_graph\u001b[0;34m(G, ax, figsize, bgcolor, node_color, node_size, node_alpha, node_edgecolor, node_zorder, edge_color, edge_linewidth, edge_alpha, bbox, show, close, save, filepath, dpi)\u001b[0m\n\u001b[1;32m    253\u001b[0m \u001b[38;5;28;01mif\u001b[39;00m max_edge_lw \u001b[38;5;241m>\u001b[39m \u001b[38;5;241m0\u001b[39m:\n\u001b[1;32m    254\u001b[0m     \u001b[38;5;66;03m# plot the edges' geometries\u001b[39;00m\n\u001b[1;32m    255\u001b[0m     gdf_edges \u001b[38;5;241m=\u001b[39m convert\u001b[38;5;241m.\u001b[39mgraph_to_gdfs(G, nodes\u001b[38;5;241m=\u001b[39m\u001b[38;5;28;01mFalse\u001b[39;00m)[\u001b[38;5;124m\"\u001b[39m\u001b[38;5;124mgeometry\u001b[39m\u001b[38;5;124m\"\u001b[39m]\n\u001b[0;32m--> 256\u001b[0m     ax \u001b[38;5;241m=\u001b[39m \u001b[43mgdf_edges\u001b[49m\u001b[38;5;241;43m.\u001b[39;49m\u001b[43mplot\u001b[49m\u001b[43m(\u001b[49m\u001b[43max\u001b[49m\u001b[38;5;241;43m=\u001b[39;49m\u001b[43max\u001b[49m\u001b[43m,\u001b[49m\u001b[43m \u001b[49m\u001b[43mcolor\u001b[49m\u001b[38;5;241;43m=\u001b[39;49m\u001b[43medge_color\u001b[49m\u001b[43m,\u001b[49m\u001b[43m \u001b[49m\u001b[43mlw\u001b[49m\u001b[38;5;241;43m=\u001b[39;49m\u001b[43medge_linewidth\u001b[49m\u001b[43m,\u001b[49m\u001b[43m \u001b[49m\u001b[43malpha\u001b[49m\u001b[38;5;241;43m=\u001b[39;49m\u001b[43medge_alpha\u001b[49m\u001b[43m,\u001b[49m\u001b[43m \u001b[49m\u001b[43mzorder\u001b[49m\u001b[38;5;241;43m=\u001b[39;49m\u001b[38;5;241;43m1\u001b[39;49m\u001b[43m)\u001b[49m\n\u001b[1;32m    258\u001b[0m \u001b[38;5;28;01mif\u001b[39;00m max_node_size \u001b[38;5;241m>\u001b[39m \u001b[38;5;241m0\u001b[39m:\n\u001b[1;32m    259\u001b[0m     \u001b[38;5;66;03m# scatter plot the nodes' x/y coordinates\u001b[39;00m\n\u001b[1;32m    260\u001b[0m     gdf_nodes \u001b[38;5;241m=\u001b[39m convert\u001b[38;5;241m.\u001b[39mgraph_to_gdfs(G, edges\u001b[38;5;241m=\u001b[39m\u001b[38;5;28;01mFalse\u001b[39;00m, node_geometry\u001b[38;5;241m=\u001b[39m\u001b[38;5;28;01mFalse\u001b[39;00m)[[\u001b[38;5;124m\"\u001b[39m\u001b[38;5;124mx\u001b[39m\u001b[38;5;124m\"\u001b[39m, \u001b[38;5;124m\"\u001b[39m\u001b[38;5;124my\u001b[39m\u001b[38;5;124m\"\u001b[39m]]\n",
      "File \u001b[0;32m~/anaconda3/envs/cyp204d/lib/python3.9/site-packages/geopandas/geoseries.py:953\u001b[0m, in \u001b[0;36mGeoSeries.plot\u001b[0;34m(self, *args, **kwargs)\u001b[0m\n\u001b[1;32m    951\u001b[0m \u001b[38;5;129m@doc\u001b[39m(plot_series)\n\u001b[1;32m    952\u001b[0m \u001b[38;5;28;01mdef\u001b[39;00m \u001b[38;5;21mplot\u001b[39m(\u001b[38;5;28mself\u001b[39m, \u001b[38;5;241m*\u001b[39margs, \u001b[38;5;241m*\u001b[39m\u001b[38;5;241m*\u001b[39mkwargs):\n\u001b[0;32m--> 953\u001b[0m     \u001b[38;5;28;01mreturn\u001b[39;00m \u001b[43mplot_series\u001b[49m\u001b[43m(\u001b[49m\u001b[38;5;28;43mself\u001b[39;49m\u001b[43m,\u001b[49m\u001b[43m \u001b[49m\u001b[38;5;241;43m*\u001b[39;49m\u001b[43margs\u001b[49m\u001b[43m,\u001b[49m\u001b[43m \u001b[49m\u001b[38;5;241;43m*\u001b[39;49m\u001b[38;5;241;43m*\u001b[39;49m\u001b[43mkwargs\u001b[49m\u001b[43m)\u001b[49m\n",
      "File \u001b[0;32m~/anaconda3/envs/cyp204d/lib/python3.9/site-packages/geopandas/plotting.py:468\u001b[0m, in \u001b[0;36mplot_series\u001b[0;34m(s, cmap, color, ax, figsize, aspect, autolim, **style_kwds)\u001b[0m\n\u001b[1;32m    465\u001b[0m     values_ \u001b[38;5;241m=\u001b[39m values[line_idx] \u001b[38;5;28;01mif\u001b[39;00m cmap \u001b[38;5;28;01melse\u001b[39;00m \u001b[38;5;28;01mNone\u001b[39;00m\n\u001b[1;32m    466\u001b[0m     color_ \u001b[38;5;241m=\u001b[39m expl_color[line_idx] \u001b[38;5;28;01mif\u001b[39;00m color_given \u001b[38;5;28;01melse\u001b[39;00m color\n\u001b[0;32m--> 468\u001b[0m     \u001b[43m_plot_linestring_collection\u001b[49m\u001b[43m(\u001b[49m\n\u001b[1;32m    469\u001b[0m \u001b[43m        \u001b[49m\u001b[43max\u001b[49m\u001b[43m,\u001b[49m\u001b[43m \u001b[49m\u001b[43mlines\u001b[49m\u001b[43m,\u001b[49m\u001b[43m \u001b[49m\u001b[43mvalues_\u001b[49m\u001b[43m,\u001b[49m\u001b[43m \u001b[49m\u001b[43mcolor\u001b[49m\u001b[38;5;241;43m=\u001b[39;49m\u001b[43mcolor_\u001b[49m\u001b[43m,\u001b[49m\u001b[43m \u001b[49m\u001b[43mcmap\u001b[49m\u001b[38;5;241;43m=\u001b[39;49m\u001b[43mcmap\u001b[49m\u001b[43m,\u001b[49m\u001b[43m \u001b[49m\u001b[43mautolim\u001b[49m\u001b[38;5;241;43m=\u001b[39;49m\u001b[43mautolim\u001b[49m\u001b[43m,\u001b[49m\u001b[43m \u001b[49m\u001b[38;5;241;43m*\u001b[39;49m\u001b[38;5;241;43m*\u001b[39;49m\u001b[43mstyle_kwds\u001b[49m\n\u001b[1;32m    470\u001b[0m \u001b[43m    \u001b[49m\u001b[43m)\u001b[49m\n\u001b[1;32m    472\u001b[0m \u001b[38;5;66;03m# plot all Points in the same collection\u001b[39;00m\n\u001b[1;32m    473\u001b[0m points \u001b[38;5;241m=\u001b[39m expl_series[point_idx]\n",
      "File \u001b[0;32m~/anaconda3/envs/cyp204d/lib/python3.9/site-packages/geopandas/plotting.py:237\u001b[0m, in \u001b[0;36m_plot_linestring_collection\u001b[0;34m(ax, geoms, values, color, cmap, vmin, vmax, autolim, **kwargs)\u001b[0m\n\u001b[1;32m    234\u001b[0m _expand_kwargs(kwargs, multiindex)\n\u001b[1;32m    236\u001b[0m segments \u001b[38;5;241m=\u001b[39m [np\u001b[38;5;241m.\u001b[39marray(linestring\u001b[38;5;241m.\u001b[39mcoords)[:, :\u001b[38;5;241m2\u001b[39m] \u001b[38;5;28;01mfor\u001b[39;00m linestring \u001b[38;5;129;01min\u001b[39;00m geoms]\n\u001b[0;32m--> 237\u001b[0m collection \u001b[38;5;241m=\u001b[39m \u001b[43mLineCollection\u001b[49m\u001b[43m(\u001b[49m\u001b[43msegments\u001b[49m\u001b[43m,\u001b[49m\u001b[43m \u001b[49m\u001b[38;5;241;43m*\u001b[39;49m\u001b[38;5;241;43m*\u001b[39;49m\u001b[43mkwargs\u001b[49m\u001b[43m)\u001b[49m\n\u001b[1;32m    239\u001b[0m \u001b[38;5;28;01mif\u001b[39;00m values \u001b[38;5;129;01mis\u001b[39;00m \u001b[38;5;129;01mnot\u001b[39;00m \u001b[38;5;28;01mNone\u001b[39;00m:\n\u001b[1;32m    240\u001b[0m     collection\u001b[38;5;241m.\u001b[39mset_array(np\u001b[38;5;241m.\u001b[39masarray(values))\n",
      "File \u001b[0;32m~/anaconda3/envs/cyp204d/lib/python3.9/site-packages/matplotlib/collections.py:1438\u001b[0m, in \u001b[0;36mLineCollection.__init__\u001b[0;34m(self, segments, zorder, **kwargs)\u001b[0m\n\u001b[1;32m   1436\u001b[0m \u001b[38;5;66;03m# Unfortunately, mplot3d needs this explicit setting of 'facecolors'.\u001b[39;00m\n\u001b[1;32m   1437\u001b[0m kwargs\u001b[38;5;241m.\u001b[39msetdefault(\u001b[38;5;124m'\u001b[39m\u001b[38;5;124mfacecolors\u001b[39m\u001b[38;5;124m'\u001b[39m, \u001b[38;5;124m'\u001b[39m\u001b[38;5;124mnone\u001b[39m\u001b[38;5;124m'\u001b[39m)\n\u001b[0;32m-> 1438\u001b[0m \u001b[38;5;28;43msuper\u001b[39;49m\u001b[43m(\u001b[49m\u001b[43m)\u001b[49m\u001b[38;5;241;43m.\u001b[39;49m\u001b[38;5;21;43m__init__\u001b[39;49m\u001b[43m(\u001b[49m\n\u001b[1;32m   1439\u001b[0m \u001b[43m    \u001b[49m\u001b[43mzorder\u001b[49m\u001b[38;5;241;43m=\u001b[39;49m\u001b[43mzorder\u001b[49m\u001b[43m,\u001b[49m\n\u001b[1;32m   1440\u001b[0m \u001b[43m    \u001b[49m\u001b[38;5;241;43m*\u001b[39;49m\u001b[38;5;241;43m*\u001b[39;49m\u001b[43mkwargs\u001b[49m\u001b[43m)\u001b[49m\n\u001b[1;32m   1441\u001b[0m \u001b[38;5;28mself\u001b[39m\u001b[38;5;241m.\u001b[39mset_segments(segments)\n",
      "File \u001b[0;32m~/anaconda3/envs/cyp204d/lib/python3.9/site-packages/matplotlib/collections.py:203\u001b[0m, in \u001b[0;36mCollection.__init__\u001b[0;34m(self, edgecolors, facecolors, linewidths, linestyles, capstyle, joinstyle, antialiaseds, offsets, offset_transform, norm, cmap, pickradius, hatch, urls, zorder, **kwargs)\u001b[0m\n\u001b[1;32m    200\u001b[0m \u001b[38;5;28mself\u001b[39m\u001b[38;5;241m.\u001b[39m_offset_transform \u001b[38;5;241m=\u001b[39m offset_transform\n\u001b[1;32m    202\u001b[0m \u001b[38;5;28mself\u001b[39m\u001b[38;5;241m.\u001b[39m_path_effects \u001b[38;5;241m=\u001b[39m \u001b[38;5;28;01mNone\u001b[39;00m\n\u001b[0;32m--> 203\u001b[0m \u001b[38;5;28;43mself\u001b[39;49m\u001b[38;5;241;43m.\u001b[39;49m\u001b[43m_internal_update\u001b[49m\u001b[43m(\u001b[49m\u001b[43mkwargs\u001b[49m\u001b[43m)\u001b[49m\n\u001b[1;32m    204\u001b[0m \u001b[38;5;28mself\u001b[39m\u001b[38;5;241m.\u001b[39m_paths \u001b[38;5;241m=\u001b[39m \u001b[38;5;28;01mNone\u001b[39;00m\n",
      "File \u001b[0;32m~/anaconda3/envs/cyp204d/lib/python3.9/site-packages/matplotlib/artist.py:1219\u001b[0m, in \u001b[0;36mArtist._internal_update\u001b[0;34m(self, kwargs)\u001b[0m\n\u001b[1;32m   1212\u001b[0m \u001b[38;5;28;01mdef\u001b[39;00m \u001b[38;5;21m_internal_update\u001b[39m(\u001b[38;5;28mself\u001b[39m, kwargs):\n\u001b[1;32m   1213\u001b[0m \u001b[38;5;250m    \u001b[39m\u001b[38;5;124;03m\"\"\"\u001b[39;00m\n\u001b[1;32m   1214\u001b[0m \u001b[38;5;124;03m    Update artist properties without prenormalizing them, but generating\u001b[39;00m\n\u001b[1;32m   1215\u001b[0m \u001b[38;5;124;03m    errors as if calling `set`.\u001b[39;00m\n\u001b[1;32m   1216\u001b[0m \n\u001b[1;32m   1217\u001b[0m \u001b[38;5;124;03m    The lack of prenormalization is to maintain backcompatibility.\u001b[39;00m\n\u001b[1;32m   1218\u001b[0m \u001b[38;5;124;03m    \"\"\"\u001b[39;00m\n\u001b[0;32m-> 1219\u001b[0m     \u001b[38;5;28;01mreturn\u001b[39;00m \u001b[38;5;28;43mself\u001b[39;49m\u001b[38;5;241;43m.\u001b[39;49m\u001b[43m_update_props\u001b[49m\u001b[43m(\u001b[49m\n\u001b[1;32m   1220\u001b[0m \u001b[43m        \u001b[49m\u001b[43mkwargs\u001b[49m\u001b[43m,\u001b[49m\u001b[43m \u001b[49m\u001b[38;5;124;43m\"\u001b[39;49m\u001b[38;5;132;43;01m{cls.__name__}\u001b[39;49;00m\u001b[38;5;124;43m.set() got an unexpected keyword argument \u001b[39;49m\u001b[38;5;124;43m\"\u001b[39;49m\n\u001b[1;32m   1221\u001b[0m \u001b[43m        \u001b[49m\u001b[38;5;124;43m\"\u001b[39;49m\u001b[38;5;132;43;01m{prop_name!r}\u001b[39;49;00m\u001b[38;5;124;43m\"\u001b[39;49m\u001b[43m)\u001b[49m\n",
      "File \u001b[0;32m~/anaconda3/envs/cyp204d/lib/python3.9/site-packages/matplotlib/artist.py:1195\u001b[0m, in \u001b[0;36mArtist._update_props\u001b[0;34m(self, props, errfmt)\u001b[0m\n\u001b[1;32m   1192\u001b[0m             \u001b[38;5;28;01mif\u001b[39;00m \u001b[38;5;129;01mnot\u001b[39;00m \u001b[38;5;28mcallable\u001b[39m(func):\n\u001b[1;32m   1193\u001b[0m                 \u001b[38;5;28;01mraise\u001b[39;00m \u001b[38;5;167;01mAttributeError\u001b[39;00m(\n\u001b[1;32m   1194\u001b[0m                     errfmt\u001b[38;5;241m.\u001b[39mformat(\u001b[38;5;28mcls\u001b[39m\u001b[38;5;241m=\u001b[39m\u001b[38;5;28mtype\u001b[39m(\u001b[38;5;28mself\u001b[39m), prop_name\u001b[38;5;241m=\u001b[39mk))\n\u001b[0;32m-> 1195\u001b[0m             ret\u001b[38;5;241m.\u001b[39mappend(\u001b[43mfunc\u001b[49m\u001b[43m(\u001b[49m\u001b[43mv\u001b[49m\u001b[43m)\u001b[49m)\n\u001b[1;32m   1196\u001b[0m \u001b[38;5;28;01mif\u001b[39;00m ret:\n\u001b[1;32m   1197\u001b[0m     \u001b[38;5;28mself\u001b[39m\u001b[38;5;241m.\u001b[39mpchanged()\n",
      "File \u001b[0;32m~/anaconda3/envs/cyp204d/lib/python3.9/site-packages/matplotlib/collections.py:1508\u001b[0m, in \u001b[0;36mLineCollection.set_color\u001b[0;34m(self, c)\u001b[0m\n\u001b[1;32m   1497\u001b[0m \u001b[38;5;28;01mdef\u001b[39;00m \u001b[38;5;21mset_color\u001b[39m(\u001b[38;5;28mself\u001b[39m, c):\n\u001b[1;32m   1498\u001b[0m \u001b[38;5;250m    \u001b[39m\u001b[38;5;124;03m\"\"\"\u001b[39;00m\n\u001b[1;32m   1499\u001b[0m \u001b[38;5;124;03m    Set the edgecolor(s) of the LineCollection.\u001b[39;00m\n\u001b[1;32m   1500\u001b[0m \n\u001b[0;32m   (...)\u001b[0m\n\u001b[1;32m   1506\u001b[0m \u001b[38;5;124;03m        cycle through the sequence.\u001b[39;00m\n\u001b[1;32m   1507\u001b[0m \u001b[38;5;124;03m    \"\"\"\u001b[39;00m\n\u001b[0;32m-> 1508\u001b[0m     \u001b[38;5;28;43mself\u001b[39;49m\u001b[38;5;241;43m.\u001b[39;49m\u001b[43mset_edgecolor\u001b[49m\u001b[43m(\u001b[49m\u001b[43mc\u001b[49m\u001b[43m)\u001b[49m\n",
      "File \u001b[0;32m~/anaconda3/envs/cyp204d/lib/python3.9/site-packages/matplotlib/collections.py:834\u001b[0m, in \u001b[0;36mCollection.set_edgecolor\u001b[0;34m(self, c)\u001b[0m\n\u001b[1;32m    832\u001b[0m     c \u001b[38;5;241m=\u001b[39m c\u001b[38;5;241m.\u001b[39mlower()\n\u001b[1;32m    833\u001b[0m \u001b[38;5;28mself\u001b[39m\u001b[38;5;241m.\u001b[39m_original_edgecolor \u001b[38;5;241m=\u001b[39m c\n\u001b[0;32m--> 834\u001b[0m \u001b[38;5;28;43mself\u001b[39;49m\u001b[38;5;241;43m.\u001b[39;49m\u001b[43m_set_edgecolor\u001b[49m\u001b[43m(\u001b[49m\u001b[43mc\u001b[49m\u001b[43m)\u001b[49m\n",
      "File \u001b[0;32m~/anaconda3/envs/cyp204d/lib/python3.9/site-packages/matplotlib/collections.py:813\u001b[0m, in \u001b[0;36mCollection._set_edgecolor\u001b[0;34m(self, c)\u001b[0m\n\u001b[1;32m    811\u001b[0m     \u001b[38;5;28mself\u001b[39m\u001b[38;5;241m.\u001b[39mstale \u001b[38;5;241m=\u001b[39m \u001b[38;5;28;01mTrue\u001b[39;00m\n\u001b[1;32m    812\u001b[0m     \u001b[38;5;28;01mreturn\u001b[39;00m\n\u001b[0;32m--> 813\u001b[0m \u001b[38;5;28mself\u001b[39m\u001b[38;5;241m.\u001b[39m_edgecolors \u001b[38;5;241m=\u001b[39m \u001b[43mmcolors\u001b[49m\u001b[38;5;241;43m.\u001b[39;49m\u001b[43mto_rgba_array\u001b[49m\u001b[43m(\u001b[49m\u001b[43mc\u001b[49m\u001b[43m,\u001b[49m\u001b[43m \u001b[49m\u001b[38;5;28;43mself\u001b[39;49m\u001b[38;5;241;43m.\u001b[39;49m\u001b[43m_alpha\u001b[49m\u001b[43m)\u001b[49m\n\u001b[1;32m    814\u001b[0m \u001b[38;5;28;01mif\u001b[39;00m set_hatch_color \u001b[38;5;129;01mand\u001b[39;00m \u001b[38;5;28mlen\u001b[39m(\u001b[38;5;28mself\u001b[39m\u001b[38;5;241m.\u001b[39m_edgecolors):\n\u001b[1;32m    815\u001b[0m     \u001b[38;5;28mself\u001b[39m\u001b[38;5;241m.\u001b[39m_hatch_color \u001b[38;5;241m=\u001b[39m \u001b[38;5;28mtuple\u001b[39m(\u001b[38;5;28mself\u001b[39m\u001b[38;5;241m.\u001b[39m_edgecolors[\u001b[38;5;241m0\u001b[39m])\n",
      "File \u001b[0;32m~/anaconda3/envs/cyp204d/lib/python3.9/site-packages/matplotlib/colors.py:489\u001b[0m, in \u001b[0;36mto_rgba_array\u001b[0;34m(c, alpha)\u001b[0m\n\u001b[1;32m    487\u001b[0m         \u001b[38;5;28;01mraise\u001b[39;00m e\n\u001b[1;32m    488\u001b[0m \u001b[38;5;28;01mif\u001b[39;00m \u001b[38;5;28misinstance\u001b[39m(c, \u001b[38;5;28mstr\u001b[39m):\n\u001b[0;32m--> 489\u001b[0m     \u001b[38;5;28;01mraise\u001b[39;00m \u001b[38;5;167;01mValueError\u001b[39;00m(\u001b[38;5;124mf\u001b[39m\u001b[38;5;124m\"\u001b[39m\u001b[38;5;132;01m{\u001b[39;00mc\u001b[38;5;132;01m!r}\u001b[39;00m\u001b[38;5;124m is not a valid color value.\u001b[39m\u001b[38;5;124m\"\u001b[39m)\n\u001b[1;32m    491\u001b[0m \u001b[38;5;28;01mif\u001b[39;00m \u001b[38;5;28mlen\u001b[39m(c) \u001b[38;5;241m==\u001b[39m \u001b[38;5;241m0\u001b[39m:\n\u001b[1;32m    492\u001b[0m     \u001b[38;5;28;01mreturn\u001b[39;00m np\u001b[38;5;241m.\u001b[39mzeros((\u001b[38;5;241m0\u001b[39m, \u001b[38;5;241m4\u001b[39m), \u001b[38;5;28mfloat\u001b[39m)\n",
      "\u001b[0;31mValueError\u001b[0m: 'grey33' is not a valid color value."
     ]
    },
    {
     "data": {
      "image/png": "[encoded data removed]",
      "text/plain": [
       "<Figure size 1500x1500 with 2 Axes>"
      ]
     },
     "metadata": {},
     "output_type": "display_data"
    }
   ],
   "source": [
    "import matplotlib.pyplot as plt\n",
    "\n",
    "fig, axes = plt.subplots(1, 2, figsize=(15, 15))\n",
    "\n",
    "# Plot each graph in a subplot\n",
    "ox.plot_graph(G['phi'], ax=axes[0], node_size=0, edge_color='grey33', edge_linewidth=.5, show=False)\n",
    "axes[0].set_title('Philadelphia')\n",
    "\n",
    "ox.plot_graph(G['chi'], ax=axes[1], node_size=0, edge_color='grey33', edge_linewidth=.5, show=False)\n",
    "axes[1].set_title('Chicago')\n",
    "\n",
    "# ox.plot_graph(G['sfba'], ax=axes[1, 0], node_size=0, edge_color='black')\n",
    "# axes[1, 0].set_title('San Francisco Bay Area')\n",
    "\n",
    "# ox.plot_graph(G['nyc'], ax=axes[1, 1], node_size=0, edge_color='black')\n",
    "# axes[1, 1].set_title('New York City')\n",
    "\n",
    "plt.tight_layout()\n",
    "plt.show()"
   ]
  },
  {
   "cell_type": "code",
   "execution_count": 16,
   "metadata": {},
   "outputs": [],
   "source": [
    "sfba_nodes, sfba_edges = ox.graph_to_gdfs(G['sfba'])"
   ]
  },
  {
   "cell_type": "code",
   "execution_count": 17,
   "metadata": {},
   "outputs": [
    {
     "data": {
      "text/html": [
       "<div>\n",
       "<style scoped>\n",
       "    .dataframe tbody tr th:only-of-type {\n",
       "        vertical-align: middle;\n",
       "    }\n",
       "\n",
       "    .dataframe tbody tr th {\n",
       "        vertical-align: top;\n",
       "    }\n",
       "\n",
       "    .dataframe thead th {\n",
       "        text-align: right;\n",
       "    }\n",
       "</style>\n",
       "<table border=\"1\" class=\"dataframe\">\n",
       "  <thead>\n",
       "    <tr style=\"text-align: right;\">\n",
       "      <th></th>\n",
       "      <th>y</th>\n",
       "      <th>x</th>\n",
       "      <th>highway</th>\n",
       "      <th>street_count</th>\n",
       "      <th>ref</th>\n",
       "      <th>junction</th>\n",
       "      <th>railway</th>\n",
       "      <th>geometry</th>\n",
       "    </tr>\n",
       "    <tr>\n",
       "      <th>osmid</th>\n",
       "      <th></th>\n",
       "      <th></th>\n",
       "      <th></th>\n",
       "      <th></th>\n",
       "      <th></th>\n",
       "      <th></th>\n",
       "      <th></th>\n",
       "      <th></th>\n",
       "    </tr>\n",
       "  </thead>\n",
       "  <tbody>\n",
       "    <tr>\n",
       "      <th>25457938</th>\n",
       "      <td>37.007868</td>\n",
       "      <td>-121.553913</td>\n",
       "      <td>traffic_signals</td>\n",
       "      <td>4</td>\n",
       "      <td>NaN</td>\n",
       "      <td>NaN</td>\n",
       "      <td>NaN</td>\n",
       "      <td>POINT (-121.55391 37.00787)</td>\n",
       "    </tr>\n",
       "    <tr>\n",
       "      <th>25457939</th>\n",
       "      <td>37.002077</td>\n",
       "      <td>-121.550781</td>\n",
       "      <td>traffic_signals</td>\n",
       "      <td>4</td>\n",
       "      <td>NaN</td>\n",
       "      <td>NaN</td>\n",
       "      <td>NaN</td>\n",
       "      <td>POINT (-121.55078 37.00208)</td>\n",
       "    </tr>\n",
       "    <tr>\n",
       "      <th>26392420</th>\n",
       "      <td>36.988574</td>\n",
       "      <td>-121.384907</td>\n",
       "      <td>NaN</td>\n",
       "      <td>4</td>\n",
       "      <td>NaN</td>\n",
       "      <td>NaN</td>\n",
       "      <td>NaN</td>\n",
       "      <td>POINT (-121.38491 36.98857)</td>\n",
       "    </tr>\n",
       "    <tr>\n",
       "      <th>26404828</th>\n",
       "      <td>37.006170</td>\n",
       "      <td>-121.552054</td>\n",
       "      <td>traffic_signals</td>\n",
       "      <td>4</td>\n",
       "      <td>NaN</td>\n",
       "      <td>NaN</td>\n",
       "      <td>NaN</td>\n",
       "      <td>POINT (-121.55205 37.00617)</td>\n",
       "    </tr>\n",
       "    <tr>\n",
       "      <th>26404847</th>\n",
       "      <td>36.961039</td>\n",
       "      <td>-121.551626</td>\n",
       "      <td>NaN</td>\n",
       "      <td>3</td>\n",
       "      <td>NaN</td>\n",
       "      <td>NaN</td>\n",
       "      <td>NaN</td>\n",
       "      <td>POINT (-121.55163 36.96104)</td>\n",
       "    </tr>\n",
       "    <tr>\n",
       "      <th>...</th>\n",
       "      <td>...</td>\n",
       "      <td>...</td>\n",
       "      <td>...</td>\n",
       "      <td>...</td>\n",
       "      <td>...</td>\n",
       "      <td>...</td>\n",
       "      <td>...</td>\n",
       "      <td>...</td>\n",
       "    </tr>\n",
       "    <tr>\n",
       "      <th>12483707184</th>\n",
       "      <td>38.031214</td>\n",
       "      <td>-122.265515</td>\n",
       "      <td>NaN</td>\n",
       "      <td>1</td>\n",
       "      <td>NaN</td>\n",
       "      <td>NaN</td>\n",
       "      <td>NaN</td>\n",
       "      <td>POINT (-122.26552 38.03121)</td>\n",
       "    </tr>\n",
       "    <tr>\n",
       "      <th>12483707185</th>\n",
       "      <td>38.031025</td>\n",
       "      <td>-122.265464</td>\n",
       "      <td>NaN</td>\n",
       "      <td>1</td>\n",
       "      <td>NaN</td>\n",
       "      <td>NaN</td>\n",
       "      <td>NaN</td>\n",
       "      <td>POINT (-122.26546 38.03103)</td>\n",
       "    </tr>\n",
       "    <tr>\n",
       "      <th>12483707186</th>\n",
       "      <td>38.031223</td>\n",
       "      <td>-122.266666</td>\n",
       "      <td>NaN</td>\n",
       "      <td>3</td>\n",
       "      <td>NaN</td>\n",
       "      <td>NaN</td>\n",
       "      <td>NaN</td>\n",
       "      <td>POINT (-122.26667 38.03122)</td>\n",
       "    </tr>\n",
       "    <tr>\n",
       "      <th>12483707187</th>\n",
       "      <td>38.031391</td>\n",
       "      <td>-122.265548</td>\n",
       "      <td>NaN</td>\n",
       "      <td>1</td>\n",
       "      <td>NaN</td>\n",
       "      <td>NaN</td>\n",
       "      <td>NaN</td>\n",
       "      <td>POINT (-122.26555 38.03139)</td>\n",
       "    </tr>\n",
       "    <tr>\n",
       "      <th>12483730138</th>\n",
       "      <td>37.996242</td>\n",
       "      <td>-122.305115</td>\n",
       "      <td>NaN</td>\n",
       "      <td>3</td>\n",
       "      <td>NaN</td>\n",
       "      <td>NaN</td>\n",
       "      <td>NaN</td>\n",
       "      <td>POINT (-122.30511 37.99624)</td>\n",
       "    </tr>\n",
       "  </tbody>\n",
       "</table>\n",
       "<p>705132 rows × 8 columns</p>\n",
       "</div>"
      ],
      "text/plain": [
       "                     y           x          highway  street_count  ref  \\\n",
       "osmid                                                                    \n",
       "25457938     37.007868 -121.553913  traffic_signals             4  NaN   \n",
       "25457939     37.002077 -121.550781  traffic_signals             4  NaN   \n",
       "26392420     36.988574 -121.384907              NaN             4  NaN   \n",
       "26404828     37.006170 -121.552054  traffic_signals             4  NaN   \n",
       "26404847     36.961039 -121.551626              NaN             3  NaN   \n",
       "...                ...         ...              ...           ...  ...   \n",
       "12483707184  38.031214 -122.265515              NaN             1  NaN   \n",
       "12483707185  38.031025 -122.265464              NaN             1  NaN   \n",
       "12483707186  38.031223 -122.266666              NaN             3  NaN   \n",
       "12483707187  38.031391 -122.265548              NaN             1  NaN   \n",
       "12483730138  37.996242 -122.305115              NaN             3  NaN   \n",
       "\n",
       "            junction railway                     geometry  \n",
       "osmid                                                      \n",
       "25457938         NaN     NaN  POINT (-121.55391 37.00787)  \n",
       "25457939         NaN     NaN  POINT (-121.55078 37.00208)  \n",
       "26392420         NaN     NaN  POINT (-121.38491 36.98857)  \n",
       "26404828         NaN     NaN  POINT (-121.55205 37.00617)  \n",
       "26404847         NaN     NaN  POINT (-121.55163 36.96104)  \n",
       "...              ...     ...                          ...  \n",
       "12483707184      NaN     NaN  POINT (-122.26552 38.03121)  \n",
       "12483707185      NaN     NaN  POINT (-122.26546 38.03103)  \n",
       "12483707186      NaN     NaN  POINT (-122.26667 38.03122)  \n",
       "12483707187      NaN     NaN  POINT (-122.26555 38.03139)  \n",
       "12483730138      NaN     NaN  POINT (-122.30511 37.99624)  \n",
       "\n",
       "[705132 rows x 8 columns]"
      ]
     },
     "execution_count": 17,
     "metadata": {},
     "output_type": "execute_result"
    }
   ],
   "source": [
    "sfba_nodes"
   ]
  },
  {
   "cell_type": "markdown",
   "metadata": {},
   "source": [
    "## Project all to a coordinate system"
   ]
  },
  {
   "cell_type": "code",
   "execution_count": null,
   "metadata": {},
   "outputs": [
    {
     "name": "stdout",
     "output_type": "stream",
     "text": [
      "Projecting phi..\n",
      "\tSuccess! Now Saving..\n",
      "invalid mode: 'wp'\n",
      "Projecting chi..\n"
     ]
    },
    {
     "name": "stderr",
     "output_type": "stream",
     "text": [
      "Exception ignored in: <bound method IPythonKernel._clean_thread_parent_frames of <ipykernel.ipkernel.IPythonKernel object at 0x105d0a0d0>>\n",
      "Traceback (most recent call last):\n",
      "  File \"/Users/jon/anaconda3/envs/cyp204d/lib/python3.9/site-packages/ipykernel/ipkernel.py\", line 770, in _clean_thread_parent_frames\n",
      "    def _clean_thread_parent_frames(\n",
      "KeyboardInterrupt: \n"
     ]
    }
   ],
   "source": [
    "# Use Global Mercator for all\n",
    "PROJ = {\n",
    "    'phi': 'EPSG:3857', \n",
    "    'chi': 'EPSG:3857',\n",
    "    'sfba': 'EPSG:3857',\n",
    "    'sf': 'EPSG:3857',\n",
    "    'eastbay': 'EPSG:3857',\n",
    "    'nyc': 'EPSG:3857'\n",
    "}\n",
    "\n",
    "\n",
    "Gp = {}\n",
    "for i in G.keys():\n",
    "    print(f'Projecting {i}..')\n",
    "    try:\n",
    "        Gp[i] = ox.projection.project_graph(G[i], to_crs=PROJ[i])\n",
    "        print('\\tSuccess! Now Saving..')\n",
    "        with open(f'../data/temp/{i}_walk_graph_proj', 'wb') as fp:\n",
    "            pickle.dump(Gp[i], fp)\n",
    "    except Exception as e:\n",
    "        print(e)\n"
   ]
  },
  {
   "cell_type": "markdown",
   "metadata": {},
   "source": [
    "## Find Closest node to each centroid\n",
    "\n",
    "### First reload the centroids"
   ]
  },
  {
   "cell_type": "code",
   "execution_count": 9,
   "metadata": {},
   "outputs": [],
   "source": [
    "import pickle\n",
    "with open('../data/temp/bg_centroids', 'rb') as f:\n",
    "    BG_centroids = pickle.load(f)"
   ]
  },
  {
   "cell_type": "markdown",
   "metadata": {},
   "source": [
    "## Load Features from OSM\n",
    "\n",
    "### Bridges\n",
    "`bridge in ['yes','viaduct']`"
   ]
  },
  {
   "cell_type": "code",
   "execution_count": 37,
   "metadata": {},
   "outputs": [],
   "source": [
    "#ox.features_from_place(GEO_DEFINITIONS['phi'], tags={'railway': 'rail', 'bridge': 'yes'}).groupby(['railway', 'bridge']).count()\n",
    "#G_rail_bridges = ox.features_from_place(GEO_DEFINITIONS['phi'], tags={'railway': 'rail'}).groupby('bridge').count()\n",
    "#phi_feats = ox.features_from_place(GEO_DEFINITIONS['phi'], tags={'bridge':['yes'})\n",
    "#phi_feats.groupby(['element','highway']).count()\n",
    "#phi_feats.plot()\n",
    "\n",
    "phi_bridges = ox.features_from_place(GEO_DEFINITIONS['phi'], tags={'bridge':['yes','viaduct']})\n",
    "chi_bridges = ox.features_from_place(GEO_DEFINITIONS['chi'], tags={'bridge':['yes','viaduct']})\n",
    "nyc_bridges = ox.features_from_place(GEO_DEFINITIONS['nyc'], tags={'bridge':['yes','viaduct']})\n",
    "sf_bridges = ox.features_from_place(GEO_DEFINITIONS['sf'], tags={'bridge':['yes','viaduct']})\n",
    "eastbay_bridges = ox.features_from_place(GEO_DEFINITIONS['eastbay'], tags={'bridge':['yes','viaduct']})"
   ]
  },
  {
   "cell_type": "code",
   "execution_count": 49,
   "metadata": {},
   "outputs": [],
   "source": [
    "with open('../data/temp/osm_bridges_phi', 'wb') as fp:\n",
    "    pickle.dump(phi_bridges, fp)\n",
    "with open('../data/temp/osm_bridges_chi', 'wb') as fp:\n",
    "    pickle.dump(chi_bridges, fp)\n",
    "with open('../data/temp/osm_bridges_nyc', 'wb') as fp:\n",
    "    pickle.dump(nyc_bridges, fp)\n",
    "with open('../data/temp/osm_bridges_sf', 'wb') as fp:\n",
    "    pickle.dump(sf_bridges, fp)\n",
    "with open('../data/temp/osm_bridges_eastbay', 'wb') as fp:\n",
    "    pickle.dump(eastbay_bridges, fp)"
   ]
  },
  {
   "cell_type": "markdown",
   "metadata": {},
   "source": [
    "### Highways\n",
    "`highway in ['motorway','motorway_link']`\n",
    "`highway in ['motorway','motorway_link', 'motorway_junction']`"
   ]
  },
  {
   "cell_type": "code",
   "execution_count": 55,
   "metadata": {},
   "outputs": [
    {
     "data": {
      "text/plain": [
       "highway\n",
       "footway           781\n",
       "motorway          583\n",
       "service           400\n",
       "motorway_link     373\n",
       "secondary         353\n",
       "residential       261\n",
       "path              249\n",
       "tertiary          245\n",
       "cycleway          176\n",
       "track             123\n",
       "primary           113\n",
       "trunk              69\n",
       "unclassified       45\n",
       "steps              28\n",
       "proposed           11\n",
       "pedestrian          8\n",
       "trunk_link          5\n",
       "secondary_link      3\n",
       "raceway             2\n",
       "corridor            2\n",
       "construction        2\n",
       "primary_link        1\n",
       "elevator            1\n",
       "Name: count, dtype: int64"
      ]
     },
     "execution_count": 55,
     "metadata": {},
     "output_type": "execute_result"
    }
   ],
   "source": [
    "eastbay_bridges['highway'].value_counts()\n",
    "#eastbay_bridges[eastbay_bridges['highway'].isin(['motorway', 'motorway_link'])].plot"
   ]
  },
  {
   "cell_type": "code",
   "execution_count": null,
   "metadata": {},
   "outputs": [],
   "source": [
    "# Highways\n",
    "phi_hwys = ox.features_from_place(GEO_DEFINITIONS['phi'], tags={'highway':['motorway','motorway_link']})\n",
    "chi_hwys = ox.features_from_place(GEO_DEFINITIONS['chi'], tags={'highway':['motorway','motorway_link']})\n",
    "nyc_hwys = ox.features_from_place(GEO_DEFINITIONS['nyc'], tags={'highway':['motorway','motorway_link']})\n",
    "sf_hwys = ox.features_from_place(GEO_DEFINITIONS['sf'], tags={'highway':['motorway','motorway_link']})\n",
    "eastbay_hwys = ox.features_from_place(GEO_DEFINITIONS['eastbay'], tags={'highway':['motorway','motorway_link']})\n",
    "\n",
    "\n",
    "\n"
   ]
  },
  {
   "cell_type": "code",
   "execution_count": null,
   "metadata": {},
   "outputs": [
    {
     "name": "stdout",
     "output_type": "stream",
     "text": [
      "Index(['geometry', 'highway', 'ref', 'noref', 'destination', 'destination:ref',\n",
      "       'oneway', 'surface', 'turn:lanes', 'toll', 'destination:ref:to', 'hgv',\n",
      "       'lanes', 'maxspeed', 'ref:penndot', 'source:hgv', 'source:ref:penndot',\n",
      "       'tiger:cfcc', 'bridge', 'layer', 'sidewalk', 'junction:ref',\n",
      "       'tiger:reviewed', 'bicycle', 'destination:lanes', 'foot', 'horse',\n",
      "       'lit', 'name', 'maxspeed:advisory', 'old_ref_legislative', 'access',\n",
      "       'NHS', 'maxheight', 'wikipedia', 'destination:symbol', 'tunnel',\n",
      "       'destination:to', 'bus', 'tiger:source', 'tiger:tlid',\n",
      "       'destination:ref:lanes', 'destination:street', 'old_ref:legislative',\n",
      "       'tiger:name_base', 'tiger:name_base_1', 'tiger:name_type_1',\n",
      "       'tiger:name_type', 'tiger:zip_left', 'tiger:name_direction_prefix',\n",
      "       'bridge:name', 'note', 'maxspeed:variable', 'tiger:county', 'highspeed',\n",
      "       'check_date', 'website', 'destination:street:lanes', 'fixme',\n",
      "       'embankment', 'ele', 'hgv:lanes', 'tiger:separated', 'turn',\n",
      "       'lane_markings', 'placement', 'maxheight:signed', 'ford', 'source',\n",
      "       'lanes:conditional', 'source:surface', 'wikidata', 'change:lanes',\n",
      "       'covered'],\n",
      "      dtype='object')\n"
     ]
    },
    {
     "data": {
      "text/plain": [
       "<Axes: >"
      ]
     },
     "execution_count": 69,
     "metadata": {},
     "output_type": "execute_result"
    },
    {
     "data": {
      "image/png": "[encoded data removed]",
      "text/plain": [
       "<Figure size 640x480 with 1 Axes>"
      ]
     },
     "metadata": {},
     "output_type": "display_data"
    }
   ],
   "source": [
    "#eastbay_hwys['bridge'].value_counts(dropna=False)\n",
    "print(phi_hwys.columns)\n",
    "\n",
    "\n",
    "nyc_hwys.plot(ax=ax)"
   ]
  },
  {
   "cell_type": "code",
   "execution_count": 57,
   "metadata": {},
   "outputs": [],
   "source": [
    "with open('../data/temp/osm_hwys_phi', 'wb') as fp:\n",
    "    pickle.dump(phi_hwys, fp)\n",
    "with open('../data/temp/osm_hwys_chi', 'wb') as fp:\n",
    "    pickle.dump(chi_hwys, fp)\n",
    "with open('../data/temp/osm_hwys_nyc', 'wb') as fp:\n",
    "    pickle.dump(nyc_hwys, fp)\n",
    "with open('../data/temp/osm_hwys_sf', 'wb') as fp:\n",
    "    pickle.dump(sf_hwys, fp)\n",
    "with open('../data/temp/osm_hwys_eastbay', 'wb') as fp:\n",
    "    pickle.dump(eastbay_hwys, fp)"
   ]
  }
 ],
 "metadata": {
  "kernelspec": {
   "display_name": "cyp204d",
   "language": "python",
   "name": "python3"
  },
  "language_info": {
   "codemirror_mode": {
    "name": "ipython",
    "version": 3
   },
   "file_extension": ".py",
   "mimetype": "text/x-python",
   "name": "python",
   "nbconvert_exporter": "python",
   "pygments_lexer": "ipython3",
   "version": "3.9.18"
  }
 },
 "nbformat": 4,
 "nbformat_minor": 2
}
