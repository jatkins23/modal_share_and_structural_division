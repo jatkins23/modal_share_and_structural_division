{
 "cells": [
  {
   "cell_type": "markdown",
   "metadata": {},
   "source": [
    "# 3) Calculate BG Distances\n",
    "\n",
    "## Env"
   ]
  },
  {
   "cell_type": "code",
   "execution_count": 1,
   "metadata": {},
   "outputs": [],
   "source": [
    "import pandas as pd\n",
    "import numpy as np\n",
    "import osmnx as ox\n",
    "import networkx as nx\n",
    "import pickle\n",
    "import os\n"
   ]
  },
  {
   "cell_type": "markdown",
   "metadata": {},
   "source": [
    "## Process\n",
    "\n",
    "### Load Data"
   ]
  },
  {
   "cell_type": "code",
   "execution_count": 2,
   "metadata": {},
   "outputs": [
    {
     "name": "stdout",
     "output_type": "stream",
     "text": [
      "Trying to open phi..\n",
      "\tSuccess!\n",
      "Trying to open chi..\n",
      "\tSuccess!\n",
      "Trying to open sfba..\n",
      "\tSuccess!\n",
      "Trying to open sf..\n",
      "\tFailed with exception: [Errno 2] No such file or directory: '../data/temp/sf_walk_graph_proj'\n",
      "Trying to open eastbay..\n",
      "\tFailed with exception: [Errno 2] No such file or directory: '../data/temp/eastbay_walk_graph_proj'\n",
      "Trying to open nyc..\n",
      "\tSuccess!\n"
     ]
    }
   ],
   "source": [
    "import pickle\n",
    "# Load the centroids\n",
    "with open('../data/temp/bg_centroids', 'rb') as f:\n",
    "    BG_centroids = pickle.load(f)\n",
    "\n",
    "# Load the projections\n",
    "with open('../data/temp/projections', 'rb') as f:\n",
    "    PROJ = pickle.load(f)\n",
    "\n",
    "# Load the Projected Graphs\n",
    "Gp = {}\n",
    "for i in PROJ.keys():\n",
    "    print(f'Trying to open {i}..')\n",
    "    try:\n",
    "        with open(f'../data/temp/{i}_walk_graph_proj', 'rb') as f:\n",
    "            Gp[i] = pickle.load(f)\n",
    "        print('\\tSuccess!')\n",
    "    except Exception as e:\n",
    "        print(f'\\tFailed with exception: {e}')"
   ]
  },
  {
   "cell_type": "markdown",
   "metadata": {},
   "source": [
    "### Project each BG into coordinate system\n",
    "\n",
    "#### First Clean the centroids"
   ]
  },
  {
   "cell_type": "code",
   "execution_count": 3,
   "metadata": {},
   "outputs": [
    {
     "data": {
      "text/html": [
       "<div>\n",
       "<style scoped>\n",
       "    .dataframe tbody tr th:only-of-type {\n",
       "        vertical-align: middle;\n",
       "    }\n",
       "\n",
       "    .dataframe tbody tr th {\n",
       "        vertical-align: top;\n",
       "    }\n",
       "\n",
       "    .dataframe thead th {\n",
       "        text-align: right;\n",
       "    }\n",
       "</style>\n",
       "<table border=\"1\" class=\"dataframe\">\n",
       "  <thead>\n",
       "    <tr style=\"text-align: right;\">\n",
       "      <th></th>\n",
       "      <th>metro</th>\n",
       "      <th>fips5</th>\n",
       "      <th>fips12</th>\n",
       "      <th>lng</th>\n",
       "      <th>lat</th>\n",
       "    </tr>\n",
       "  </thead>\n",
       "  <tbody>\n",
       "    <tr>\n",
       "      <th>0</th>\n",
       "      <td>phi</td>\n",
       "      <td>42101</td>\n",
       "      <td>421010001011</td>\n",
       "      <td>-75.1502</td>\n",
       "      <td>39.9518</td>\n",
       "    </tr>\n",
       "    <tr>\n",
       "      <th>1</th>\n",
       "      <td>phi</td>\n",
       "      <td>42101</td>\n",
       "      <td>421010001012</td>\n",
       "      <td>-75.1500</td>\n",
       "      <td>39.9500</td>\n",
       "    </tr>\n",
       "    <tr>\n",
       "      <th>2</th>\n",
       "      <td>phi</td>\n",
       "      <td>42101</td>\n",
       "      <td>421010001013</td>\n",
       "      <td>-75.1479</td>\n",
       "      <td>39.9515</td>\n",
       "    </tr>\n",
       "    <tr>\n",
       "      <th>3</th>\n",
       "      <td>phi</td>\n",
       "      <td>42101</td>\n",
       "      <td>421010001014</td>\n",
       "      <td>-75.1456</td>\n",
       "      <td>39.9503</td>\n",
       "    </tr>\n",
       "    <tr>\n",
       "      <th>4</th>\n",
       "      <td>phi</td>\n",
       "      <td>42101</td>\n",
       "      <td>421010001015</td>\n",
       "      <td>-75.1427</td>\n",
       "      <td>39.9500</td>\n",
       "    </tr>\n",
       "    <tr>\n",
       "      <th>...</th>\n",
       "      <td>...</td>\n",
       "      <td>...</td>\n",
       "      <td>...</td>\n",
       "      <td>...</td>\n",
       "      <td>...</td>\n",
       "    </tr>\n",
       "    <tr>\n",
       "      <th>4370</th>\n",
       "      <td>sfba</td>\n",
       "      <td>06085</td>\n",
       "      <td>060855130003</td>\n",
       "      <td>-122.1588</td>\n",
       "      <td>37.4251</td>\n",
       "    </tr>\n",
       "    <tr>\n",
       "      <th>4371</th>\n",
       "      <td>sfba</td>\n",
       "      <td>06085</td>\n",
       "      <td>060855130004</td>\n",
       "      <td>-122.1579</td>\n",
       "      <td>37.4218</td>\n",
       "    </tr>\n",
       "    <tr>\n",
       "      <th>4372</th>\n",
       "      <td>sfba</td>\n",
       "      <td>06085</td>\n",
       "      <td>060855130005</td>\n",
       "      <td>-122.1547</td>\n",
       "      <td>37.4243</td>\n",
       "    </tr>\n",
       "    <tr>\n",
       "      <th>4373</th>\n",
       "      <td>sfba</td>\n",
       "      <td>06085</td>\n",
       "      <td>060855130006</td>\n",
       "      <td>-122.1615</td>\n",
       "      <td>37.4315</td>\n",
       "    </tr>\n",
       "    <tr>\n",
       "      <th>4374</th>\n",
       "      <td>sfba</td>\n",
       "      <td>06085</td>\n",
       "      <td>060855135001</td>\n",
       "      <td>-121.5168</td>\n",
       "      <td>37.2400</td>\n",
       "    </tr>\n",
       "  </tbody>\n",
       "</table>\n",
       "<p>16067 rows × 5 columns</p>\n",
       "</div>"
      ],
      "text/plain": [
       "     metro  fips5        fips12       lng      lat\n",
       "0      phi  42101  421010001011  -75.1502  39.9518\n",
       "1      phi  42101  421010001012  -75.1500  39.9500\n",
       "2      phi  42101  421010001013  -75.1479  39.9515\n",
       "3      phi  42101  421010001014  -75.1456  39.9503\n",
       "4      phi  42101  421010001015  -75.1427  39.9500\n",
       "...    ...    ...           ...       ...      ...\n",
       "4370  sfba  06085  060855130003 -122.1588  37.4251\n",
       "4371  sfba  06085  060855130004 -122.1579  37.4218\n",
       "4372  sfba  06085  060855130005 -122.1547  37.4243\n",
       "4373  sfba  06085  060855130006 -122.1615  37.4315\n",
       "4374  sfba  06085  060855135001 -121.5168  37.2400\n",
       "\n",
       "[16067 rows x 5 columns]"
      ]
     },
     "execution_count": 3,
     "metadata": {},
     "output_type": "execute_result"
    }
   ],
   "source": [
    "(BG_centroids['O_bg_fips'].str.len()).value_counts()\n",
    "\n",
    "BG_centroids.columns = ['fips12', 'lng','lat']\n",
    "BG_centroids['fips5'] = BG_centroids['fips12'].str[0:5]\n",
    "BG_centroids['fips5'].str[0:2].value_counts()\n",
    "\n",
    "convert_dict = {\n",
    "    '36': 'nyc',\n",
    "    '06': 'sfba',\n",
    "    '17': 'chi',\n",
    "    '42': 'phi'\n",
    "}\n",
    "\n",
    "BG_centroids['metro'] = [convert_dict[i] for i in BG_centroids['fips5'].str[0:2]]\n",
    "BG_centroids = BG_centroids[['metro', 'fips5', 'fips12','lng','lat']]\n",
    "\n",
    "BG_centroids\n"
   ]
  },
  {
   "cell_type": "markdown",
   "metadata": {},
   "source": [
    "#### Then project the centroids"
   ]
  },
  {
   "cell_type": "code",
   "execution_count": 4,
   "metadata": {},
   "outputs": [],
   "source": [
    "import geopandas as gpd\n",
    "\n",
    "#bg_coords = BG_centroids.apply(lambda x: (x['LATITUDE'], x['LONGITUDE']), axis = 1)\n",
    "gdf_BG_centroids = gpd.GeoDataFrame(BG_centroids, geometry=gpd.points_from_xy(BG_centroids['lng'], BG_centroids['lat']), crs='EPSG:4326')\n",
    "\n",
    "#gpd_BG_centroids = gpd_BG_centroids.to_crs(PROJ['chi']) ## NOTE: This assumes they are all the same crs\n",
    "#gpd_BG_centroids"
   ]
  },
  {
   "cell_type": "code",
   "execution_count": 5,
   "metadata": {},
   "outputs": [
    {
     "data": {
      "text/plain": [
       "0        phi\n",
       "1        phi\n",
       "2        phi\n",
       "3        phi\n",
       "4        phi\n",
       "        ... \n",
       "4370    sfba\n",
       "4371    sfba\n",
       "4372    sfba\n",
       "4373    sfba\n",
       "4374    sfba\n",
       "Name: metro, Length: 16067, dtype: object"
      ]
     },
     "execution_count": 5,
     "metadata": {},
     "output_type": "execute_result"
    }
   ],
   "source": [
    "gdf_BG_centroids['metro']"
   ]
  },
  {
   "cell_type": "markdown",
   "metadata": {},
   "source": [
    "### Load the Projected Simplified Graphs\n"
   ]
  },
  {
   "cell_type": "code",
   "execution_count": 6,
   "metadata": {},
   "outputs": [
    {
     "name": "stdout",
     "output_type": "stream",
     "text": [
      "Trying to open phi..\n",
      "\tSuccess!\n",
      "Trying to open chi..\n",
      "\tSuccess!\n",
      "Trying to open sfba..\n",
      "\tSuccess!\n",
      "Trying to open sf..\n",
      "\tFailed with exception: [Errno 2] No such file or directory: '../data/temp/sf_walk_graph_proj_simpl'\n",
      "Trying to open eastbay..\n",
      "\tFailed with exception: [Errno 2] No such file or directory: '../data/temp/eastbay_walk_graph_proj_simpl'\n",
      "Trying to open nyc..\n",
      "\tSuccess!\n"
     ]
    }
   ],
   "source": [
    "# Load the Simplififed Projected Graphs\n",
    "Gps = {}\n",
    "for i in PROJ.keys():\n",
    "    print(f'Trying to open {i}..')\n",
    "    try:\n",
    "        with open(f'../data/temp/{i}_walk_graph_proj_simpl', 'rb') as f:\n",
    "            Gps[i] = pickle.load(f)\n",
    "        print('\\tSuccess!')\n",
    "    except Exception as e:\n",
    "        print(f'\\tFailed with exception: {e}')"
   ]
  },
  {
   "cell_type": "markdown",
   "metadata": {},
   "source": [
    "\n",
    "### Assign each to a closest node"
   ]
  },
  {
   "cell_type": "code",
   "execution_count": 7,
   "metadata": {},
   "outputs": [
    {
     "name": "stdout",
     "output_type": "stream",
     "text": [
      "phi..\n",
      "chi..\n",
      "sfba..\n",
      "nyc..\n"
     ]
    }
   ],
   "source": [
    "nn_idxs = {}\n",
    "nn_dists = {}\n",
    "\n",
    "for i in Gps.keys():\n",
    "    print(f'{i}..')\n",
    "    nn_idxs[i], nn_dists[i] = ox.distance.nearest_nodes(\n",
    "        Gps[i], \n",
    "        X = gdf_BG_centroids[gdf_BG_centroids['metro'] == i].to_crs(PROJ[i])['geometry'].x,\n",
    "        Y = gdf_BG_centroids[gdf_BG_centroids['metro'] == i].to_crs(PROJ[i])['geometry'].y,\n",
    "        return_dist=True\n",
    "    )"
   ]
  },
  {
   "cell_type": "markdown",
   "metadata": {},
   "source": [
    "### For each node in \"nearest_nodes\", run dijkstra, to find shortest path to ALL nodes"
   ]
  },
  {
   "cell_type": "code",
   "execution_count": 8,
   "metadata": {},
   "outputs": [
    {
     "name": "stdout",
     "output_type": "stream",
     "text": [
      "\n",
      "phi...\n",
      "0/1338\n",
      "100/1338\n",
      "200/1338\n",
      "300/1338\n",
      "400/1338\n",
      "500/1338\n",
      "600/1338\n",
      "700/1338\n",
      "800/1338\n",
      "900/1338\n",
      "1000/1338\n",
      "1100/1338\n",
      "1200/1338\n",
      "1300/1338\n",
      "\n",
      "chi...\n",
      "0/4002\n",
      "100/4002\n",
      "200/4002\n",
      "300/4002\n",
      "400/4002\n",
      "500/4002\n",
      "600/4002\n",
      "700/4002\n",
      "800/4002\n",
      "900/4002\n",
      "1000/4002\n",
      "1100/4002\n",
      "1200/4002\n",
      "1300/4002\n",
      "1400/4002\n",
      "1500/4002\n",
      "1600/4002\n",
      "1700/4002\n",
      "1800/4002\n",
      "1900/4002\n",
      "2000/4002\n",
      "2100/4002\n",
      "2200/4002\n",
      "2300/4002\n",
      "2400/4002\n",
      "2500/4002\n",
      "2600/4002\n",
      "2700/4002\n",
      "2800/4002\n",
      "2900/4002\n",
      "3000/4002\n",
      "3100/4002\n",
      "3200/4002\n",
      "3300/4002\n",
      "3400/4002\n",
      "3500/4002\n",
      "3600/4002\n",
      "3700/4002\n",
      "3800/4002\n",
      "3900/4002\n",
      "4000/4002\n",
      "\n",
      "sfba...\n",
      "0/4375\n",
      "100/4375\n",
      "200/4375\n",
      "300/4375\n",
      "400/4375\n",
      "500/4375\n",
      "600/4375\n",
      "700/4375\n",
      "800/4375\n",
      "900/4375\n",
      "1000/4375\n",
      "1100/4375\n",
      "1200/4375\n",
      "1300/4375\n",
      "1400/4375\n",
      "1500/4375\n",
      "1600/4375\n",
      "1700/4375\n",
      "1800/4375\n",
      "1900/4375\n",
      "2000/4375\n",
      "2100/4375\n",
      "2200/4375\n",
      "2300/4375\n",
      "2400/4375\n",
      "2500/4375\n",
      "2600/4375\n",
      "2700/4375\n",
      "2800/4375\n",
      "2900/4375\n",
      "3000/4375\n",
      "3100/4375\n",
      "3200/4375\n",
      "3300/4375\n",
      "3400/4375\n",
      "3500/4375\n",
      "3600/4375\n",
      "3700/4375\n",
      "3800/4375\n",
      "3900/4375\n",
      "4000/4375\n",
      "4100/4375\n",
      "4200/4375\n",
      "4300/4375\n",
      "\n",
      "nyc...\n",
      "0/6352\n",
      "100/6352\n",
      "200/6352\n",
      "300/6352\n",
      "400/6352\n",
      "500/6352\n",
      "600/6352\n",
      "700/6352\n",
      "800/6352\n",
      "900/6352\n",
      "1000/6352\n",
      "1100/6352\n",
      "1200/6352\n",
      "1300/6352\n",
      "1400/6352\n",
      "1500/6352\n",
      "1600/6352\n",
      "1700/6352\n",
      "1800/6352\n",
      "1900/6352\n",
      "2000/6352\n",
      "2100/6352\n",
      "2200/6352\n",
      "2300/6352\n",
      "2400/6352\n",
      "2500/6352\n",
      "2600/6352\n",
      "2700/6352\n",
      "2800/6352\n",
      "2900/6352\n",
      "3000/6352\n",
      "3100/6352\n",
      "3200/6352\n",
      "3300/6352\n",
      "3400/6352\n",
      "3500/6352\n",
      "3600/6352\n",
      "3700/6352\n",
      "3800/6352\n",
      "3900/6352\n",
      "4000/6352\n",
      "4100/6352\n",
      "4200/6352\n",
      "4300/6352\n",
      "4400/6352\n",
      "4500/6352\n",
      "4600/6352\n",
      "4700/6352\n",
      "4800/6352\n",
      "4900/6352\n",
      "5000/6352\n",
      "5100/6352\n",
      "5200/6352\n",
      "5300/6352\n",
      "5400/6352\n",
      "5500/6352\n",
      "5600/6352\n",
      "5700/6352\n",
      "5800/6352\n",
      "5900/6352\n",
      "6000/6352\n",
      "6100/6352\n",
      "6200/6352\n",
      "6300/6352\n"
     ]
    }
   ],
   "source": [
    "# first limit to only those node pairs within 4mi of each other. Hmm, ok, that doesn't actually work. But can I use a cutoff?\n",
    "# Yes!\n",
    "shortest_paths = {}\n",
    "for m in Gps.keys():\n",
    "    print(f'\\n{m}...')\n",
    "    shortest_paths[m] = {}\n",
    "    for j in range(len(nn_idxs[m])):\n",
    "        if j % 100 == 0:\n",
    "            print(f'{j}/{len(nn_idxs[m])}')\n",
    "        shortest_paths[m][j] = nx.single_source_dijkstra_path_length(Gps[m], nn_idxs[m][j], weight='length', cutoff=4000)\n"
   ]
  },
  {
   "cell_type": "markdown",
   "metadata": {},
   "source": [
    "### Limit to just nodes in \"nearest_nodes\", then we have a table of O(NN*NN) "
   ]
  },
  {
   "cell_type": "code",
   "execution_count": 10,
   "metadata": {},
   "outputs": [],
   "source": [
    "dfs_shortest_paths = {}\n",
    "\n",
    "dfs_shortest_paths['chi'] = (\n",
    "    pd.DataFrame(shortest_paths['chi'])\n",
    "    .loc[nn_idxs['chi']]\n",
    "    .melt()\n",
    "    .dropna()\n",
    "    .reset_index()\n",
    "    .rename(columns={'index':'o', 'variable':'d'})\n",
    "    .set_index(['o','d'])\n",
    ") # 243,416 rows\n",
    "\n",
    "dfs_shortest_paths['phi'] = pd.DataFrame(shortest_paths['phi']).loc[nn_idxs['phi']].melt().dropna().reset_index().rename(columns={'index':'o', 'variable':'d'}).set_index(['o','d'])\n",
    "\n",
    "dfs_shortest_paths['nyc'] = pd.DataFrame(shortest_paths['nyc']).loc[nn_idxs['nyc']].melt().dropna().reset_index().rename(columns={'index':'o', 'variable':'d'}).set_index(['o','d'])\n",
    "\n",
    "dfs_shortest_paths['sfba'] = pd.DataFrame(shortest_paths['sfba']).loc[nn_idxs['sfba']].melt().dropna().reset_index().rename(columns={'index':'o', 'variable':'d'}).set_index(['o','d'])"
   ]
  },
  {
   "cell_type": "markdown",
   "metadata": {},
   "source": [
    "### And Check in"
   ]
  },
  {
   "cell_type": "code",
   "execution_count": 11,
   "metadata": {},
   "outputs": [
    {
     "name": "stdout",
     "output_type": "stream",
     "text": [
      "(243416, 1)\n",
      "(164656, 1)\n",
      "(1500060, 1)\n",
      "(252183, 1)\n"
     ]
    }
   ],
   "source": [
    "print(dfs_shortest_paths['chi'].shape)\n",
    "print(dfs_shortest_paths['phi'].shape)\n",
    "print(dfs_shortest_paths['nyc'].shape)\n",
    "print(dfs_shortest_paths['sfba'].shape)"
   ]
  },
  {
   "cell_type": "markdown",
   "metadata": {},
   "source": [
    "### Save Somehow"
   ]
  },
  {
   "cell_type": "code",
   "execution_count": 13,
   "metadata": {},
   "outputs": [],
   "source": [
    "# pickle them?\n",
    "for m in dfs_shortest_paths.keys():\n",
    "    with open(f'../data/temp/{m}_shortest_paths', 'wb') as fp:\n",
    "        pickle.dump(dfs_shortest_paths[m], fp)"
   ]
  }
 ],
 "metadata": {
  "kernelspec": {
   "display_name": "cyp204d",
   "language": "python",
   "name": "python3"
  },
  "language_info": {
   "codemirror_mode": {
    "name": "ipython",
    "version": 3
   },
   "file_extension": ".py",
   "mimetype": "text/x-python",
   "name": "python",
   "nbconvert_exporter": "python",
   "pygments_lexer": "ipython3",
   "version": "3.9.18"
  }
 },
 "nbformat": 4,
 "nbformat_minor": 2
}
