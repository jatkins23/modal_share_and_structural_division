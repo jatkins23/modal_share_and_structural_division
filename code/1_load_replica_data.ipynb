{
 "cells": [
  {
   "cell_type": "markdown",
   "metadata": {},
   "source": [
    "# Load Replica Data and confrim"
   ]
  },
  {
   "cell_type": "markdown",
   "metadata": {},
   "source": [
    "## Env"
   ]
  },
  {
   "cell_type": "code",
   "execution_count": 3,
   "metadata": {},
   "outputs": [],
   "source": [
    "import pandas as pd\n",
    "import numpy as np\n",
    "import os"
   ]
  },
  {
   "cell_type": "markdown",
   "metadata": {},
   "source": [
    "### Connections\n"
   ]
  },
  {
   "cell_type": "code",
   "execution_count": 12,
   "metadata": {},
   "outputs": [
    {
     "name": "stdout",
     "output_type": "stream",
     "text": [
      "Successfully connected to the PostgreSQL database\n"
     ]
    }
   ],
   "source": [
    "# Postgres\n",
    "from dotenv import load_dotenv\n",
    "\n",
    "load_dotenv()\n",
    "\n",
    "from sqlalchemy import create_engine\n",
    "from sqlalchemy.engine import URL\n",
    "from sqlalchemy import text\n",
    "# os.chdir('Documents/Grad School/Berkeley/Classes/CYP_204D - Multivariate Analysis in Planning/Project/204d_final_project/')\n",
    "user = \"postgres\"\n",
    "password = os.getenv('POSTGRES_PW')\n",
    "host = \"127.0.0.1\"\n",
    "port = \"5432\"\n",
    "database = \"gradschool\"\n",
    "\n",
    "pg_url = URL.create(\n",
    "    drivername='postgresql',\n",
    "    username='postgres',\n",
    "    host='127.0.0.1',\n",
    "    database='gradschool',\n",
    "    password=os.getenv('POSTGRES_PW')\n",
    ")\n",
    "\n",
    "pg_engine = create_engine(pg_url)\n",
    "# Test connection\n",
    "try:\n",
    "    with pg_engine.connect() as connection_str:\n",
    "        print('Successfully connected to the PostgreSQL database')\n",
    "except Exception as e:\n",
    "    print(f'Sorry failed to connect: {e}')\n",
    "\n",
    "pg_connection = pg_engine.connect()\n"
   ]
  },
  {
   "cell_type": "markdown",
   "metadata": {},
   "source": [
    "## Load Data\n",
    "\n",
    "### Replica"
   ]
  },
  {
   "cell_type": "code",
   "execution_count": 5,
   "metadata": {},
   "outputs": [],
   "source": [
    "# Columns\n",
    "COLS_RENAME_DICT = {\n",
    "    'origin_bgrp_fips_2020': 'O_bg_fips',\n",
    "    'destination_bgrp_fips_2020': 'D_bg_fips',\n",
    "    'primary_mode': 'primary_mode', \n",
    "    'origin_bgrp_lng_2020': 'O_bg_lng',\n",
    "    'origin_bgrp_lat_2020': 'O_bg_lat',\n",
    "    'destination_bgrp_lat_2020': 'D_bg_lat',\n",
    "    'destination_bgrp_lng_2020': 'D_bg_lng'\n",
    "}"
   ]
  },
  {
   "cell_type": "code",
   "execution_count": null,
   "metadata": {},
   "outputs": [
    {
     "name": "stdout",
     "output_type": "stream",
     "text": [
      "Loading metro phi..\n",
      "\tSuccess!\n",
      "Loading metro sfba..\n",
      "\tSuccess!\n",
      "Loading metro chi..\n",
      "\tSuccess!\n",
      "Loading metro nyc..\n",
      "\tSuccess!\n"
     ]
    }
   ],
   "source": [
    "df_counts = {}\n",
    "DATA_PATHS = {\n",
    "    'phi' : '../data/replica_exports/replica-phi_sat_spring_2024-01_14_25-trips_dataset/replica-phi_sat_spring_2024-01_14_25-trips_dataset.csv',\n",
    "    'sfba' : '../data/replica_exports/replica-sfba_sat_spring_2024-01_14_25-trips_dataset/replica-ca_sat_spring_2024-01_14_25-trips_dataset.csv',\n",
    "    'chi' : '../data/replica_exports/replica-chi_sat_spring_2024-01_14_25-trips_dataset/replica-chi_sat_spring_2024-01_14_25-trips_dataset.csv',\n",
    "    'nyc' : '../data/replica_exports/replica-ny_sat_spring_2024-01_14_25-trips_dataset/replica-ny_sat_spring_2024-01_14_25-trips_dataset.csv'\n",
    "}\n",
    "\n",
    "for metro in DATA_PATHS.keys():\n",
    "    print(f'Loading metro {metro}..')\n",
    "    df = pd.read_csv(DATA_PATHS[metro])\n",
    "    df_counts = df.rename(columns = COLS_RENAME_DICT).groupby(list(COLS_RENAME_DICT.values())).agg({'trip_distance_meters' : ['count','sum'], 'trip_duration_minutes' : 'sum'}) \n",
    "    df_counts['metro'] = metro\n",
    "    \n",
    "    df_counts.columns = ['n_trips','trip_dist_m','trip_duration_min','metro']\n",
    "\n",
    "    try:\n",
    "        df_counts.reset_index().set_index(['O_bg_fips', 'D_bg_fips','primary_mode']).to_sql(f'{metro}_replica_grpd', schema = 'cyp204d_final_project', con = pg_connection, if_exists='replace')\n",
    "        print('\\tSuccess!')\n",
    "    except Exception as e:\n",
    "        print(f'\\t{metro} failed with error: {e}')\n",
    "    \n",
    "# Then Alter columns manually in SQL"
   ]
  },
  {
   "cell_type": "code",
   "execution_count": 5,
   "metadata": {},
   "outputs": [],
   "source": [
    "# Combine\n",
    "df_combined = pd.concat([df_nyc_counts, df_sfba_counts, df_chi_counts, df_phi_counts])"
   ]
  },
  {
   "cell_type": "code",
   "execution_count": 16,
   "metadata": {},
   "outputs": [
    {
     "data": {
      "text/html": [
       "<div>\n",
       "<style scoped>\n",
       "    .dataframe tbody tr th:only-of-type {\n",
       "        vertical-align: middle;\n",
       "    }\n",
       "\n",
       "    .dataframe tbody tr th {\n",
       "        vertical-align: top;\n",
       "    }\n",
       "\n",
       "    .dataframe thead th {\n",
       "        text-align: right;\n",
       "    }\n",
       "</style>\n",
       "<table border=\"1\" class=\"dataframe\">\n",
       "  <thead>\n",
       "    <tr style=\"text-align: right;\">\n",
       "      <th></th>\n",
       "      <th>destination_bgrp_lat_2020</th>\n",
       "    </tr>\n",
       "  </thead>\n",
       "  <tbody>\n",
       "    <tr>\n",
       "      <th>0</th>\n",
       "      <td>42.0176</td>\n",
       "    </tr>\n",
       "    <tr>\n",
       "      <th>1</th>\n",
       "      <td>42.0159</td>\n",
       "    </tr>\n",
       "    <tr>\n",
       "      <th>2</th>\n",
       "      <td>42.0015</td>\n",
       "    </tr>\n",
       "    <tr>\n",
       "      <th>3</th>\n",
       "      <td>41.9672</td>\n",
       "    </tr>\n",
       "    <tr>\n",
       "      <th>4</th>\n",
       "      <td>41.9444</td>\n",
       "    </tr>\n",
       "    <tr>\n",
       "      <th>...</th>\n",
       "      <td>...</td>\n",
       "    </tr>\n",
       "    <tr>\n",
       "      <th>16348482</th>\n",
       "      <td>41.7860</td>\n",
       "    </tr>\n",
       "    <tr>\n",
       "      <th>16348483</th>\n",
       "      <td>41.7860</td>\n",
       "    </tr>\n",
       "    <tr>\n",
       "      <th>16348484</th>\n",
       "      <td>41.7860</td>\n",
       "    </tr>\n",
       "    <tr>\n",
       "      <th>16348485</th>\n",
       "      <td>41.7860</td>\n",
       "    </tr>\n",
       "    <tr>\n",
       "      <th>16348486</th>\n",
       "      <td>41.7860</td>\n",
       "    </tr>\n",
       "  </tbody>\n",
       "</table>\n",
       "<p>16348487 rows × 1 columns</p>\n",
       "</div>"
      ],
      "text/plain": [
       "          destination_bgrp_lat_2020\n",
       "0                           42.0176\n",
       "1                           42.0159\n",
       "2                           42.0015\n",
       "3                           41.9672\n",
       "4                           41.9444\n",
       "...                             ...\n",
       "16348482                    41.7860\n",
       "16348483                    41.7860\n",
       "16348484                    41.7860\n",
       "16348485                    41.7860\n",
       "16348486                    41.7860\n",
       "\n",
       "[16348487 rows x 1 columns]"
      ]
     },
     "execution_count": 16,
     "metadata": {},
     "output_type": "execute_result"
    }
   ],
   "source": [
    "#df_chi_grpd = df_chi.groupby(['origin_bgrp_fips_2020','destination_bgrp_fips_2020','primary_mode']).agg({'trip_distance_meters' : ['count','sum'], 'trip_duration_minutes' : 'sum'}) # 3.8M\n",
    "#df_chi[['origin_bgrp_lat_2020','origin_bgrp_lng_2020','destination_bgrp_lat_2020','destination_bgrp_lng_2020']]"
   ]
  },
  {
   "cell_type": "code",
   "execution_count": 8,
   "metadata": {},
   "outputs": [
    {
     "ename": "NameError",
     "evalue": "name 'df_combined' is not defined",
     "output_type": "error",
     "traceback": [
      "\u001b[0;31m---------------------------------------------------------------------------\u001b[0m",
      "\u001b[0;31mNameError\u001b[0m                                 Traceback (most recent call last)",
      "Cell \u001b[0;32mIn[8], line 1\u001b[0m\n\u001b[0;32m----> 1\u001b[0m \u001b[43mdf_combined\u001b[49m\n",
      "\u001b[0;31mNameError\u001b[0m: name 'df_combined' is not defined"
     ]
    }
   ],
   "source": []
  },
  {
   "cell_type": "markdown",
   "metadata": {},
   "source": [
    "# BG Centroids"
   ]
  },
  {
   "cell_type": "code",
   "execution_count": null,
   "metadata": {},
   "outputs": [],
   "source": [
    "phi_centroids = pd.read_sql('select distinct \"O_bg_fips\", \"O_bg_lng\", \"O_bg_lat\" from cyp204d_final_project.phi_replica_grpd;', con = pg_connection)\n",
    "chi_centroids = pd.read_sql('select distinct \"O_bg_fips\", \"O_bg_lng\", \"O_bg_lat\" from cyp204d_final_project.chi_replica_grpd;', con = pg_connection)\n",
    "nyc_centroids = pd.read_sql('select distinct \"O_bg_fips\", \"O_bg_lng\", \"O_bg_lat\" from cyp204d_final_project.nyc_replica_grpd;', con = pg_connection)\n",
    "sfba_centroids = pd.read_sql('select distinct \"O_bg_fips\", \"O_bg_lng\", \"O_bg_lat\" from cyp204d_final_project.sfba_replica_grpd;', con = pg_connection)\n",
    "\n",
    "BG_centroids = pd.concat([phi_centroids, chi_centroids, nyc_centroids, sfba_centroids])"
   ]
  },
  {
   "cell_type": "code",
   "execution_count": 20,
   "metadata": {},
   "outputs": [],
   "source": [
    "import pickle\n",
    "\n",
    "with open('../data/temp/bg_centroids', 'wb') as fp:\n",
    "    pickle.dump(BG_centroids, fp)"
   ]
  }
 ],
 "metadata": {
  "kernelspec": {
   "display_name": "cyp204d",
   "language": "python",
   "name": "python3"
  },
  "language_info": {
   "codemirror_mode": {
    "name": "ipython",
    "version": 3
   },
   "file_extension": ".py",
   "mimetype": "text/x-python",
   "name": "python",
   "nbconvert_exporter": "python",
   "pygments_lexer": "ipython3",
   "version": "3.9.18"
  }
 },
 "nbformat": 4,
 "nbformat_minor": 2
}
