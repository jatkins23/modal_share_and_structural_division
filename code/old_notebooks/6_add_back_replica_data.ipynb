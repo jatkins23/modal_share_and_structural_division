{
 "cells": [
  {
   "cell_type": "markdown",
   "metadata": {},
   "source": [
    "# 6) Add BG dists and assignments to Modal Share data\n",
    "\n",
    "## env"
   ]
  },
  {
   "cell_type": "code",
   "execution_count": 5,
   "metadata": {},
   "outputs": [],
   "source": [
    "import os\n",
    "import pandas as pd\n",
    "import numpy as np"
   ]
  },
  {
   "cell_type": "markdown",
   "metadata": {},
   "source": [
    "### Postgres connection"
   ]
  },
  {
   "cell_type": "code",
   "execution_count": 6,
   "metadata": {},
   "outputs": [
    {
     "name": "stdout",
     "output_type": "stream",
     "text": [
      "Successfully connected to the PostgreSQL database\n"
     ]
    }
   ],
   "source": [
    "# Postgres\n",
    "from dotenv import load_dotenv\n",
    "\n",
    "load_dotenv()\n",
    "\n",
    "from sqlalchemy import create_engine\n",
    "from sqlalchemy.engine import URL\n",
    "from sqlalchemy import text\n",
    "# os.chdir('Documents/Grad School/Berkeley/Classes/CYP_204D - Multivariate Analysis in Planning/Project/204d_final_project/')\n",
    "user = \"postgres\"\n",
    "password = os.getenv('POSTGRES_PW')\n",
    "host = \"127.0.0.1\"\n",
    "port = \"5432\"\n",
    "database = \"gradschool\"\n",
    "\n",
    "pg_url = URL.create(\n",
    "    drivername='postgresql',\n",
    "    username='postgres',\n",
    "    host='127.0.0.1',\n",
    "    database='gradschool',\n",
    "    password=os.getenv('POSTGRES_PW')\n",
    ")\n",
    "\n",
    "pg_engine = create_engine(pg_url)\n",
    "# Test connection\n",
    "try:\n",
    "    with pg_engine.connect() as connection_str:\n",
    "        print('Successfully connected to the PostgreSQL database')\n",
    "except Exception as e:\n",
    "    print(f'Sorry failed to connect: {e}')\n"
   ]
  },
  {
   "cell_type": "markdown",
   "metadata": {},
   "source": [
    "## Load Replica Data"
   ]
  },
  {
   "cell_type": "code",
   "execution_count": 4,
   "metadata": {},
   "outputs": [],
   "source": [
    "# df_replica = {}\n",
    "# for m in ['chi','phi','nyc','sfba']:\n",
    "#     print(f'{m}..')\n",
    "#     df_replica[m] = pd.read_sql(f'select * from cyp204d_final_project.{m}_replica_grpd;', con=pg_connection)\n",
    "temp = pd.read_sql('select * from cyp204d_final_project.sfba_replica_grpd;', con=pg_engine.connect())"
   ]
  },
  {
   "cell_type": "code",
   "execution_count": 76,
   "metadata": {},
   "outputs": [
    {
     "name": "stdout",
     "output_type": "stream",
     "text": [
      "chi..\n",
      "phi..\n",
      "sfba..\n",
      "nyc..\n"
     ]
    }
   ],
   "source": [
    "dfs_replica = {}\n",
    "dfs_bg2zones = {}\n",
    "for m in ['chi','phi','sfba','nyc']:\n",
    "    print(f'{m}..')\n",
    "    try:\n",
    "        with pg_engine.connect() as pg_connection:\n",
    "            #pd.read_sql_table('chi_replica_grpd', con=pg_connection, schema='cyp204d_final_project')\n",
    "            dfs_replica[m] = pd.read_sql(f'select * from cyp204d_final_project.{m}_replica_grpd;', con=pg_connection)\n",
    "        with pg_engine.connect() as pg_connection:\n",
    "            dfs_bg2zones[m] = pd.read_sql(f'select * from cyp204d_final_project.{m}_bg2zones_od_dists;', con=pg_connection)\n",
    "    except Exception as e:\n",
    "        print(e)"
   ]
  },
  {
   "cell_type": "code",
   "execution_count": 78,
   "metadata": {},
   "outputs": [
    {
     "name": "stdout",
     "output_type": "stream",
     "text": [
      "chi..\n",
      "nyc..\n",
      "phi..\n",
      "sfba..\n"
     ]
    }
   ],
   "source": [
    "cleaned_dfs = {}\n",
    "for m in ['chi','nyc','phi','sfba']:\n",
    "    print(f'{m}..')\n",
    "    temp = dfs_replica[m].rename(columns={'O_bg_fips':'fips12_o', 'D_bg_fips':'fips12_d'}).copy()\n",
    "    temp['trip_share'] = temp['n_trips'] / temp.groupby(['fips12_o','fips12_d'])['n_trips'].transform('sum')\n",
    "    temp_pivot = temp[['fips12_o','fips12_d','primary_mode','n_trips','trip_share']].sort_values(by='n_trips',ascending=False).pivot(index=['fips12_o','fips12_d'], columns='primary_mode',values=['n_trips','trip_share'])\n",
    "    df_clean = temp_pivot['trip_share'].copy()\n",
    "    df_clean['total_trips'] = temp_pivot['n_trips'].sum(axis=1)\n",
    "    df_clean = df_clean.fillna(0)[['total_trips'] + df_clean.columns.to_list()[0:-1]]\n",
    "    cleaned_dfs[m] = df_clean.copy()\n"
   ]
  },
  {
   "cell_type": "code",
   "execution_count": 98,
   "metadata": {},
   "outputs": [
    {
     "name": "stdout",
     "output_type": "stream",
     "text": [
      "chi..\n",
      "phi..\n",
      "nyc..\n",
      "sfba..\n"
     ]
    }
   ],
   "source": [
    "# # dfs_bg2zones['chi'].set_index(['fips12_o','fips12_d']).drop('index',axis=1)\n",
    "final_dataset = {}\n",
    "for m in ['chi','phi','nyc','sfba']:\n",
    "    print(f'{m}..')\n",
    "    final_dataset[m] = (\n",
    "        dfs_bg2zones[m]\n",
    "        .set_index(['fips12_o','fips12_d'])\n",
    "        .drop('index',axis=1)\n",
    "        .merge(\n",
    "            cleaned_dfs[m],\n",
    "            left_index=True,\n",
    "            right_index=True\n",
    "        )\n",
    "    )\n",
    "\n",
    "# #dfs_bg2zones['chi']['fips12_o']\n",
    "# #cleaned_dfs['nyc']\n",
    "# dfs_replica['nyc']\n",
    "#dfs_replica['sfba']"
   ]
  },
  {
   "cell_type": "code",
   "execution_count": 100,
   "metadata": {},
   "outputs": [
    {
     "name": "stdout",
     "output_type": "stream",
     "text": [
      "chi..\n",
      "phi..\n",
      "nyc..\n",
      "sfba..\n"
     ]
    }
   ],
   "source": [
    "# (\n",
    "#     pd.concat({k: x.groupby('zone_same')[['total_trips','biking','walking','on_demand_auto','private_auto','auto_passenger','public_transit']].sum() for k, x in final_dataset.items()})\n",
    "for m in ['chi','phi','nyc','sfba']:\n",
    "    print(f'{m}..')\n",
    "    final_dataset[m].to_sql(f'{m}_final_datasets', con = pg_engine.connect(), schema='cyp204d_final_project', if_exists='replace')"
   ]
  },
  {
   "cell_type": "code",
   "execution_count": null,
   "metadata": {},
   "outputs": [],
   "source": []
  },
  {
   "cell_type": "code",
   "execution_count": 172,
   "metadata": {},
   "outputs": [
    {
     "name": "stdout",
     "output_type": "stream",
     "text": [
      "'chi', 54, 54\n",
      "'phi', 15, 15\n",
      "'nyc', 89, 88\n",
      "'sfba', 63, 63\n"
     ]
    }
   ],
   "source": [
    "\n",
    "for m in final_dataset.keys():\n",
    "    print(f\"'{m}', {final_dataset[m]['zoneID_o'].unique().shape[0]}, {final_dataset[m]['zoneID_d'].unique().shape[0]}\")"
   ]
  },
  {
   "cell_type": "markdown",
   "metadata": {},
   "source": [
    "## Mapping"
   ]
  },
  {
   "cell_type": "code",
   "execution_count": 137,
   "metadata": {},
   "outputs": [],
   "source": [
    "import pickle\n",
    "import geopandas as gpd\n",
    "zones = {}\n",
    "for m in ['chi','phi','nyc','sfba']:\n",
    "    with open(f'../data/temp/zones_{m}', 'rb') as fp:\n",
    "        zones[m] = gpd.GeoDataFrame(pickle.load(fp).reset_index().drop('index',axis=1).rename(columns={0:'geometry'}))\n",
    "\n"
   ]
  },
  {
   "cell_type": "code",
   "execution_count": 165,
   "metadata": {},
   "outputs": [
    {
     "name": "stdout",
     "output_type": "stream",
     "text": [
      "chi..\n",
      "\t1994\n",
      "\t54\n",
      "phi..\n",
      "\t291\n",
      "\t15\n",
      "nyc..\n",
      "\t1683\n",
      "\t79\n",
      "sfba..\n",
      "\t3573\n",
      "\t70\n"
     ]
    }
   ],
   "source": [
    "#!pip install folium\n",
    "#!pip install mapclassify\n",
    "# zones['chi'].reset_index().assign(temp=lambda x: x.index % 10).explore('temp')\n",
    "#zones['phi'].reset_index().assign(temp=lambda x: x.index % 10).explore('temp')\n",
    "# zones['nyc'].reset_index().assign(temp=lambda x: x.index % 10).explore('temp')\n",
    "# zones['sfba'].reset_index().assign(temp=lambda x: x.index % 10).explore('temp')\n",
    "# #zones['chi'].reset_index().assign(temp=lambda x: x.index % 10).explore('temp')\n",
    "\n",
    "#pd.concat([zones['chi'], zones['phi'], zones['sfba'], zones['chi']]).reset_index().assign(temp=lambda x: x.index % 10).explore('temp')\n",
    "for m in zones.keys():\n",
    "   print(f\"{m}..\")\n",
    "   print(f\"\\t{zones[m].shape[0]}\")\n",
    "   print(f\"\\t{zones[m][zones[m].area > 1000000].shape[0]}\")\n",
    "\n",
    "#zones['chi'][zones['chi'].area > 1000000]"
   ]
  },
  {
   "cell_type": "code",
   "execution_count": null,
   "metadata": {},
   "outputs": [
    {
     "data": {
      "text/html": [
       "<div>\n",
       "<style scoped>\n",
       "    .dataframe tbody tr th:only-of-type {\n",
       "        vertical-align: middle;\n",
       "    }\n",
       "\n",
       "    .dataframe tbody tr th {\n",
       "        vertical-align: top;\n",
       "    }\n",
       "\n",
       "    .dataframe thead th {\n",
       "        text-align: right;\n",
       "    }\n",
       "</style>\n",
       "<table border=\"1\" class=\"dataframe\">\n",
       "  <thead>\n",
       "    <tr style=\"text-align: right;\">\n",
       "      <th></th>\n",
       "      <th></th>\n",
       "      <th>geometry</th>\n",
       "    </tr>\n",
       "  </thead>\n",
       "  <tbody>\n",
       "    <tr>\n",
       "      <th rowspan=\"5\" valign=\"top\">chi</th>\n",
       "      <th>0</th>\n",
       "      <td>POLYGON ((-9825463.572 5171001.965, -9825427.4...</td>\n",
       "    </tr>\n",
       "    <tr>\n",
       "      <th>1</th>\n",
       "      <td>POLYGON ((-9825463.229 5170957.244, -9825452.1...</td>\n",
       "    </tr>\n",
       "    <tr>\n",
       "      <th>2</th>\n",
       "      <td>POLYGON ((-9825461.543 5170868.713, -9825460.9...</td>\n",
       "    </tr>\n",
       "    <tr>\n",
       "      <th>3</th>\n",
       "      <td>POLYGON ((-9825435.964 5167665.649, -9825436.8...</td>\n",
       "    </tr>\n",
       "    <tr>\n",
       "      <th>4</th>\n",
       "      <td>POLYGON ((-9825399.597 5161363.831, -9825399.3...</td>\n",
       "    </tr>\n",
       "    <tr>\n",
       "      <th>...</th>\n",
       "      <th>...</th>\n",
       "      <td>...</td>\n",
       "    </tr>\n",
       "    <tr>\n",
       "      <th rowspan=\"5\" valign=\"top\">sfba</th>\n",
       "      <th>3568</th>\n",
       "      <td>POLYGON ((-13528286.059 4450513.835, -13528285...</td>\n",
       "    </tr>\n",
       "    <tr>\n",
       "      <th>3569</th>\n",
       "      <td>POLYGON ((-13533593.818 4545222.571, -13533769...</td>\n",
       "    </tr>\n",
       "    <tr>\n",
       "      <th>3570</th>\n",
       "      <td>POLYGON ((-13533796.24 4545471.103, -13533775....</td>\n",
       "    </tr>\n",
       "    <tr>\n",
       "      <th>3571</th>\n",
       "      <td>POLYGON ((-13532807.972 4546081.22, -13532807....</td>\n",
       "    </tr>\n",
       "    <tr>\n",
       "      <th>3572</th>\n",
       "      <td>POLYGON ((-13533104.002 4545934.351, -13533122...</td>\n",
       "    </tr>\n",
       "  </tbody>\n",
       "</table>\n",
       "<p>7541 rows × 1 columns</p>\n",
       "</div>"
      ],
      "text/plain": [
       "                                                    geometry\n",
       "chi  0     POLYGON ((-9825463.572 5171001.965, -9825427.4...\n",
       "     1     POLYGON ((-9825463.229 5170957.244, -9825452.1...\n",
       "     2     POLYGON ((-9825461.543 5170868.713, -9825460.9...\n",
       "     3     POLYGON ((-9825435.964 5167665.649, -9825436.8...\n",
       "     4     POLYGON ((-9825399.597 5161363.831, -9825399.3...\n",
       "...                                                      ...\n",
       "sfba 3568  POLYGON ((-13528286.059 4450513.835, -13528285...\n",
       "     3569  POLYGON ((-13533593.818 4545222.571, -13533769...\n",
       "     3570  POLYGON ((-13533796.24 4545471.103, -13533775....\n",
       "     3571  POLYGON ((-13532807.972 4546081.22, -13532807....\n",
       "     3572  POLYGON ((-13533104.002 4545934.351, -13533122...\n",
       "\n",
       "[7541 rows x 1 columns]"
      ]
     },
     "execution_count": 144,
     "metadata": {},
     "output_type": "execute_result"
    }
   ],
   "source": [
    "pd.concat(zones)"
   ]
  }
 ],
 "metadata": {
  "kernelspec": {
   "display_name": "cyp204d",
   "language": "python",
   "name": "python3"
  },
  "language_info": {
   "codemirror_mode": {
    "name": "ipython",
    "version": 3
   },
   "file_extension": ".py",
   "mimetype": "text/x-python",
   "name": "python",
   "nbconvert_exporter": "python",
   "pygments_lexer": "ipython3",
   "version": "3.9.18"
  }
 },
 "nbformat": 4,
 "nbformat_minor": 2
}
